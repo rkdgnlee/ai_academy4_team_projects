{
 "cells": [
  {
   "cell_type": "code",
   "execution_count": 1,
   "id": "49b3e0cb",
   "metadata": {},
   "outputs": [],
   "source": [
    "import pandas as pd"
   ]
  },
  {
   "cell_type": "markdown",
   "id": "d4013190",
   "metadata": {},
   "source": [
    "!pip install openpyxl"
   ]
  },
  {
   "cell_type": "code",
   "execution_count": 2,
   "id": "835d5dda",
   "metadata": {
    "scrolled": true
   },
   "outputs": [],
   "source": [
    "go = pd.read_excel(\"./뉴스학습_원시데이터_14000개.xlsx\")\n"
   ]
  },
  {
   "cell_type": "code",
   "execution_count": 3,
   "id": "68775fe6",
   "metadata": {
    "scrolled": true
   },
   "outputs": [
    {
     "name": "stdout",
     "output_type": "stream",
     "text": [
      "<class 'pandas.core.frame.DataFrame'>\n",
      "RangeIndex: 14004 entries, 0 to 14003\n",
      "Data columns (total 7 columns):\n",
      " #   Column             Non-Null Count  Dtype \n",
      "---  ------             --------------  ----- \n",
      " 0   Unnamed: 0         14004 non-null  int64 \n",
      " 1   제목                 14004 non-null  object\n",
      " 2   키워드                14001 non-null  object\n",
      " 3   특성추출(가중치순 상위 50개)  14001 non-null  object\n",
      " 4   본문                 14004 non-null  object\n",
      " 5   URL                14004 non-null  object\n",
      " 6   label              14004 non-null  int64 \n",
      "dtypes: int64(2), object(5)\n",
      "memory usage: 766.0+ KB\n"
     ]
    }
   ],
   "source": [
    "go.info()"
   ]
  },
  {
   "cell_type": "code",
   "execution_count": 4,
   "id": "68bf67be",
   "metadata": {},
   "outputs": [],
   "source": [
    "title = pd.concat([go[\"제목\"], go[\"label\"]], axis= 1)\n",
    "keyword = pd.concat([go[\"키워드\"], go[\"label\"]], axis= 1)\n",
    "feature = pd.concat([go[\"특성추출(가중치순 상위 50개)\"], go[\"label\"]], axis= 1)\n",
    "main_text = pd.concat([go[\"본문\"], go[\"label\"]], axis= 1)"
   ]
  },
  {
   "cell_type": "markdown",
   "id": "a316cadd",
   "metadata": {},
   "source": [
    "---\n",
    "---\n",
    "---\n",
    "--- \n",
    "# 뉴스 키워드 기반 - 랜덤포레스트 모델"
   ]
  },
  {
   "cell_type": "code",
   "execution_count": 5,
   "id": "ced01b9a",
   "metadata": {
    "scrolled": false
   },
   "outputs": [
    {
     "name": "stdout",
     "output_type": "stream",
     "text": [
      " - 뉴스 keyword기반 랜덤 포레스트 모델 점수 - \n",
      "Accuarcy : 0.83\n",
      "precision : 0.84\n",
      "recall : 0.93\n",
      "F1-score : 0.88\n"
     ]
    }
   ],
   "source": [
    "from sklearn.model_selection import train_test_split\n",
    "from sklearn.ensemble import RandomForestClassifier\n",
    "from sklearn.metrics import accuracy_score, precision_score, recall_score, f1_score\n",
    "from sklearn.feature_extraction.text import TfidfVectorizer\n",
    "# 결측값을 빈 문자열로 대체하여 오류 해결\n",
    "keyword['키워드'] = keyword['키워드'].fillna('')\n",
    "\n",
    "# tfidfvectorizer 수행 \n",
    "vectorizer = TfidfVectorizer()\n",
    "X_tfidf = vectorizer.fit_transform(keyword[\"키워드\"])\n",
    "y = keyword[\"label\"]\n",
    "# Train데이터와 Test데이터로 분리\n",
    "X_train, X_test, y_train, y_test = train_test_split(X_tfidf, y, test_size = 0.3, random_state=44)\n",
    "\n",
    "# 랜덤 포레스트 모델 생성\n",
    "\n",
    "rf_model = RandomForestClassifier(random_state = 42)\n",
    "rf_model.fit(X_train, y_train)\n",
    "\n",
    "y_pred = rf_model.predict(X_test)\n",
    "\n",
    "# 성능평가 \n",
    "accuracy = accuracy_score(y_test, y_pred)\n",
    "precision = precision_score(y_test, y_pred, average=\"binary\")\n",
    "recall = recall_score(y_test, y_pred, average=\"binary\")\n",
    "f1 = f1_score(y_test, y_pred, average=\"binary\")\n",
    "print(\"뉴스 keyword기반 랜덤 포레스트 모델 점수\")\n",
    "print(f\"Accuarcy : {accuracy:.2f}\")\n",
    "print(f\"precision : {precision:.2f}\")\n",
    "print(f\"recall : {recall:.2f}\")\n",
    "print(f\"F1-score : {f1:.2f}\")"
   ]
  },
  {
   "cell_type": "markdown",
   "id": "b5a59dd1",
   "metadata": {},
   "source": [
    "# 뉴스 본문 기반 랜덤포레스트 모델 "
   ]
  },
  {
   "cell_type": "code",
   "execution_count": 6,
   "id": "7d4f5236",
   "metadata": {},
   "outputs": [
    {
     "name": "stdout",
     "output_type": "stream",
     "text": [
      " - 뉴스 본문 기반 랜덤 포레스트 모델 점수 - \n",
      "Accuarcy : 0.83\n",
      "precision : 0.82\n",
      "recall : 0.94\n",
      "F1-score : 0.88\n"
     ]
    }
   ],
   "source": [
    "from sklearn.model_selection import train_test_split\n",
    "from sklearn.ensemble import RandomForestClassifier\n",
    "from sklearn.metrics import accuracy_score, precision_score, recall_score, f1_score\n",
    "from sklearn.feature_extraction.text import TfidfVectorizer\n",
    "# 결측값을 빈 문자열로 대체하여 오류 해결\n",
    "\n",
    "main_text['본문'] = main_text['본문'].fillna('')\n",
    "X = main_text['본문']\n",
    "y = main_text['label']\n",
    "# tfidfvectorizer 수행 \n",
    "vectorizer = TfidfVectorizer()\n",
    "X_tfidf = vectorizer.fit_transform(main_text['본문'])\n",
    "\n",
    "# Train데이터와 Test데이터로 분리\n",
    "X_train, X_test, y_train, y_test = train_test_split(X_tfidf, y, test_size = 0.3, random_state=44)\n",
    "\n",
    "# 랜덤 포레스트 모델 생성\n",
    "\n",
    "rf_model = RandomForestClassifier(random_state = 42)\n",
    "rf_model.fit(X_train, y_train)\n",
    "\n",
    "y_pred = rf_model.predict(X_test)\n",
    "\n",
    "# 성능평가 \n",
    "accuracy = accuracy_score(y_test, y_pred)\n",
    "precision = precision_score(y_test, y_pred, average=\"binary\")\n",
    "recall = recall_score(y_test, y_pred, average=\"binary\")\n",
    "f1 = f1_score(y_test, y_pred, average=\"binary\")\n",
    "print(\"뉴스 본문 기반 랜덤 포레스트 모델 점수\")\n",
    "print(f\"Accuarcy : {accuracy:.2f}\")\n",
    "print(f\"precision : {precision:.2f}\")\n",
    "print(f\"recall : {recall:.2f}\")\n",
    "print(f\"F1-score : {f1:.2f}\")\n"
   ]
  },
  {
   "cell_type": "markdown",
   "id": "7e8014d8",
   "metadata": {},
   "source": [
    "# 당첨!!!!\n",
    "# 뉴스 키워드 기반 - 선형 서포트 벡터 머신 모델 \n",
    "# 학습 후 pickle 저장"
   ]
  },
  {
   "cell_type": "code",
   "execution_count": 12,
   "id": "f6c49db3",
   "metadata": {
    "scrolled": false
   },
   "outputs": [
    {
     "name": "stderr",
     "output_type": "stream",
     "text": [
      "C:\\Users\\aischool185\\anaconda3\\envs\\machine\\lib\\site-packages\\sklearn\\svm\\_classes.py:32: FutureWarning: The default value of `dual` will change from `True` to `'auto'` in 1.5. Set the value of `dual` explicitly to suppress the warning.\n",
      "  warnings.warn(\n"
     ]
    },
    {
     "name": "stdout",
     "output_type": "stream",
     "text": [
      "뉴스 키워드 기반 선형 서포트 벡터 머신 모델 점수\n",
      "Accuarcy : 0.83\n",
      "precision : 0.85\n",
      "recall : 0.92\n",
      "F1-score : 0.88\n"
     ]
    },
    {
     "name": "stderr",
     "output_type": "stream",
     "text": [
      "C:\\Users\\aischool185\\anaconda3\\envs\\machine\\lib\\site-packages\\sklearn\\svm\\_classes.py:32: FutureWarning: The default value of `dual` will change from `True` to `'auto'` in 1.5. Set the value of `dual` explicitly to suppress the warning.\n",
      "  warnings.warn(\n"
     ]
    }
   ],
   "source": [
    "from sklearn.model_selection import train_test_split\n",
    "from sklearn.svm import LinearSVC\n",
    "from sklearn.metrics import accuracy_score, precision_score, recall_score, f1_score\n",
    "from sklearn.feature_extraction.text import TfidfVectorizer\n",
    "# 결측값을 빈 문자열로 대체하여 오류 해결\n",
    "keyword['키워드'] = keyword['키워드'].fillna('')\n",
    "\n",
    "# tfidfvectorizer 수행 \n",
    "vectorizer = TfidfVectorizer()\n",
    "X_tfidf = vectorizer.fit_transform(keyword[\"키워드\"])\n",
    "y = keyword[\"label\"]\n",
    "# Train데이터와 Test데이터로 분리\n",
    "X_train, X_test, y_train, y_test = train_test_split(X_tfidf, y, test_size = 0.3, random_state=44)\n",
    "\n",
    "# 선형 서포트 벡터 머신 모델 생성\n",
    "svm_model = LinearSVC(random_state = 42)\n",
    "svm_model.fit(X_train, y_train)\n",
    "\n",
    "y_pred = svm_model.predict(X_test)\n",
    "\n",
    "# 성능평가 \n",
    "accuracy = accuracy_score(y_test, y_pred)\n",
    "precision = precision_score(y_test, y_pred, average=\"binary\")\n",
    "recall = recall_score(y_test, y_pred, average=\"binary\")\n",
    "f1 = f1_score(y_test, y_pred, average=\"binary\")\n",
    "print(\"뉴스 키워드 기반 선형 서포트 벡터 머신 모델 점수\")\n",
    "print(f\"Accuarcy : {accuracy:.2f}\")\n",
    "print(f\"precision : {precision:.2f}\")\n",
    "print(f\"recall : {recall:.2f}\")\n",
    "print(f\"F1-score : {f1:.2f}\")\n",
    "\n",
    "import pickle\n",
    "from sklearn.svm import LinearSVC\n",
    "svm_model = LinearSVC(random_state = 42)\n",
    "svm_model.fit(X_train, y_train)\n",
    "\n",
    "with open(\"svm_model.pkl\", \"wb\") as f:\n",
    "    pickle.dump(svm_model, f)\n"
   ]
  },
  {
   "cell_type": "markdown",
   "id": "08022153",
   "metadata": {},
   "source": [
    "# 당첨!!!!!\n",
    "---\n",
    "---\n",
    "---\n"
   ]
  },
  {
   "cell_type": "markdown",
   "id": "5162aa9d",
   "metadata": {},
   "source": [
    "# 뉴스 본문 기반 - 선형 서포트 벡터머신 모델 "
   ]
  },
  {
   "cell_type": "code",
   "execution_count": 8,
   "id": "a5c628cb",
   "metadata": {},
   "outputs": [
    {
     "name": "stdout",
     "output_type": "stream",
     "text": [
      "뉴스 본문 기반 선형 서포트 벡터 머신 모델 점수\n",
      "Accuarcy : 0.83\n",
      "precision : 0.84\n",
      "recall : 0.93\n",
      "F1-score : 0.88\n"
     ]
    },
    {
     "name": "stderr",
     "output_type": "stream",
     "text": [
      "C:\\Users\\aischool185\\anaconda3\\envs\\machine\\lib\\site-packages\\sklearn\\svm\\_classes.py:32: FutureWarning: The default value of `dual` will change from `True` to `'auto'` in 1.5. Set the value of `dual` explicitly to suppress the warning.\n",
      "  warnings.warn(\n"
     ]
    }
   ],
   "source": [
    "from sklearn.model_selection import train_test_split\n",
    "from sklearn.svm import LinearSVC\n",
    "from sklearn.metrics import accuracy_score, precision_score, recall_score, f1_score\n",
    "from sklearn.feature_extraction.text import TfidfVectorizer\n",
    "main_text['본문'] = main_text['본문'].fillna('')\n",
    "X = main_text['본문']\n",
    "y = main_text['label']\n",
    "# tfidfvectorizer 수행 \n",
    "vectorizer = TfidfVectorizer()\n",
    "X_tfidf = vectorizer.fit_transform(main_text['본문'])\n",
    "\n",
    "# Train데이터와 Test데이터로 분리\n",
    "X_train, X_test, y_train, y_test = train_test_split(X_tfidf, y, test_size = 0.3, random_state=44)\n",
    "\n",
    "# 선형 서포트 벡터 머신 모델 생성\n",
    "svm_model = LinearSVC(random_state = 42)\n",
    "svm_model.fit(X_train, y_train)\n",
    "\n",
    "y_pred = svm_model.predict(X_test)\n",
    "\n",
    "# 성능평가 \n",
    "accuracy = accuracy_score(y_test, y_pred)\n",
    "precision = precision_score(y_test, y_pred, average=\"binary\")\n",
    "recall = recall_score(y_test, y_pred, average=\"binary\")\n",
    "f1 = f1_score(y_test, y_pred, average=\"binary\")\n",
    "print(\"뉴스 본문 기반 선형 서포트 벡터 머신 모델 점수\")\n",
    "print(f\"Accuarcy : {accuracy:.2f}\")\n",
    "print(f\"precision : {precision:.2f}\")\n",
    "print(f\"recall : {recall:.2f}\")\n",
    "print(f\"F1-score : {f1:.2f}\")"
   ]
  },
  {
   "cell_type": "markdown",
   "id": "935dba7e",
   "metadata": {},
   "source": [
    "---\n",
    "---\n",
    "---\n",
    "# 앙상블 모델(LogisiticRegression/DecisionTree)\n",
    "## 뉴스 키워드 기반 - 앙상블 모델 - HardVoting"
   ]
  },
  {
   "cell_type": "code",
   "execution_count": 15,
   "id": "a575932e",
   "metadata": {},
   "outputs": [
    {
     "name": "stdout",
     "output_type": "stream",
     "text": [
      "앙상블 모델(LogisticRegression + RandomForest)로 hardVoting 결과 \n",
      "Accuarcy : 0.79\n",
      "precision : 0.87\n",
      "recall : 0.81\n",
      "F1-score : 0.84\n"
     ]
    }
   ],
   "source": [
    "from sklearn.model_selection import train_test_split\n",
    "from sklearn.ensemble import VotingClassifier\n",
    "from sklearn.linear_model import LogisticRegression\n",
    "from sklearn.tree import DecisionTreeClassifier\n",
    "from sklearn.metrics import accuracy_score, precision_score, recall_score, f1_score \n",
    "from sklearn.feature_extraction.text import TfidfVectorizer\n",
    "\n",
    "# 결측치 처리 \n",
    "keyword[\"키워드\"] = keyword[\"키워드\"].fillna(\"\")\n",
    "#TfidfVectorizer 수행\n",
    "vectorizer = TfidfVectorizer()\n",
    "X_tfidf = vectorizer.fit_transform(keyword[\"키워드\"])\n",
    "y = keyword[\"label\"]\n",
    "# train 데이터와 Test데이터로 분리 \n",
    "X_train, X_test, y_train, y_test = train_test_split(X_tfidf, y, random_state = 44, test_size=0.25)\n",
    "\n",
    "# 여러 개의 모델 생성 - 로지스틱 회귀와 의사결정 나무 \n",
    "lr_model = LogisticRegression(random_state= 42)\n",
    "dt_model = DecisionTreeClassifier(random_state = 42)\n",
    "\n",
    "# 보팅 분류기 생성 (각 모델을 조합하여 보팅)\n",
    "voting_model = VotingClassifier(estimators=[(\"lr\", lr_model), (\"dt\", dt_model)], voting = \"hard\")\n",
    "\n",
    "# 모델 학습 \n",
    "voting_model.fit(X_train, y_train)\n",
    "\n",
    "# Test 데이터로 예측\n",
    "y_pred = voting_model.predict(X_test)\n",
    "\n",
    "# 성능평가 \n",
    "accuracy = accuracy_score(y_test, y_pred)\n",
    "precision = precision_score(y_test, y_pred, average=\"binary\")\n",
    "recall = recall_score(y_test, y_pred, average=\"binary\")\n",
    "f1 = f1_score(y_test, y_pred, average=\"binary\")\n",
    "print(\"앙상블 모델 : LogisticRegression/DecisionTree\") \n",
    "print(\"뉴스 키워드 기준 앙상블 모델 hardVoting 결과 \")\n",
    "print(f\"Accuarcy : {accuracy:.2f}\")\n",
    "print(f\"precision : {precision:.2f}\")\n",
    "print(f\"recall : {recall:.2f}\")\n",
    "print(f\"F1-score : {f1:.2f}\")"
   ]
  },
  {
   "cell_type": "markdown",
   "id": "5adafece",
   "metadata": {},
   "source": [
    "## 뉴스 keyword 기반 앙상블 모델 - softVoting"
   ]
  },
  {
   "cell_type": "code",
   "execution_count": 16,
   "id": "e1ace453",
   "metadata": {},
   "outputs": [
    {
     "name": "stdout",
     "output_type": "stream",
     "text": [
      "앙상블 모델(LogisticRegression + RandomForest)로 softVoting 결과 \n",
      "Accuarcy : 0.77\n",
      "precision : 0.82\n",
      "recall : 0.83\n",
      "F1-score : 0.83\n"
     ]
    }
   ],
   "source": [
    "from sklearn.model_selection import train_test_split\n",
    "from sklearn.ensemble import VotingClassifier\n",
    "from sklearn.linear_model import LogisticRegression\n",
    "from sklearn.tree import DecisionTreeClassifier\n",
    "from sklearn.metrics import accuracy_score, precision_score, recall_score, f1_score \n",
    "from sklearn.feature_extraction.text import TfidfVectorizer\n",
    "\n",
    "# 결측치 처리 \n",
    "keyword[\"키워드\"] = keyword[\"키워드\"].fillna(\"\")\n",
    "#TfidfVectorizer 수행\n",
    "vectorizer = TfidfVectorizer()\n",
    "X_tfidf = vectorizer.fit_transform(keyword[\"키워드\"])\n",
    "y = keyword[\"label\"]\n",
    "# train 데이터와 Test데이터로 분리 \n",
    "X_train, X_test, y_train, y_test = train_test_split(X_tfidf, y, random_state = 44, test_size=0.25)\n",
    "\n",
    "# 여러 개의 모델 생성 - 로지스틱 회귀와 의사결정 나무 \n",
    "lr_model = LogisticRegression(random_state= 42)\n",
    "dt_model = DecisionTreeClassifier(random_state = 42)\n",
    "\n",
    "# 보팅 분류기 생성 (각 모델을 조합하여 보팅)\n",
    "voting_model = VotingClassifier(estimators=[(\"lr\", lr_model), (\"dt\", dt_model)], voting = \"soft\")\n",
    "\n",
    "# 모델 학습 \n",
    "voting_model.fit(X_train, y_train)\n",
    "\n",
    "# Test 데이터로 예측\n",
    "y_pred = voting_model.predict(X_test)\n",
    "\n",
    "# 성능평가 \n",
    "accuracy = accuracy_score(y_test, y_pred)\n",
    "precision = precision_score(y_test, y_pred, average=\"binary\")\n",
    "recall = recall_score(y_test, y_pred, average=\"binary\")\n",
    "f1 = f1_score(y_test, y_pred, average=\"binary\")\n",
    "print(\"앙상블 모델 : LogisticRegression/DecisionTree\") \n",
    "print(\"뉴스 키워드 기준 앙상블 모델 SoftVoting 결과 \")\n",
    "print(f\"Accuarcy : {accuracy:.2f}\")\n",
    "print(f\"precision : {precision:.2f}\")\n",
    "print(f\"recall : {recall:.2f}\")\n",
    "print(f\"F1-score : {f1:.2f}\")"
   ]
  },
  {
   "cell_type": "markdown",
   "id": "9a2b4b13",
   "metadata": {},
   "source": [
    "---\n",
    "---\n",
    "---\n",
    "# 뉴스 본문 기반 앙상블 모델 - HardVoting"
   ]
  },
  {
   "cell_type": "code",
   "execution_count": 7,
   "id": "e166431f",
   "metadata": {},
   "outputs": [
    {
     "name": "stdout",
     "output_type": "stream",
     "text": [
      "앙상블 모델 : LogisticRegression/RandomForest\n",
      "뉴스 본문 기준 앙상블 모델 hardVoting 결과 \n",
      "Accuarcy : 0.79\n",
      "precision : 0.85\n",
      "recall : 0.82\n",
      "F1-score : 0.84\n"
     ]
    }
   ],
   "source": [
    "from sklearn.model_selection import train_test_split\n",
    "from sklearn.ensemble import VotingClassifier\n",
    "from sklearn.linear_model import LogisticRegression\n",
    "from sklearn.tree import DecisionTreeClassifier\n",
    "from sklearn.metrics import accuracy_score, precision_score, recall_score, f1_score \n",
    "from sklearn.feature_extraction.text import TfidfVectorizer\n",
    "\n",
    "main_text['본문'] = main_text['본문'].fillna('')\n",
    "X = main_text['본문']\n",
    "y = main_text['label']\n",
    "# tfidfvectorizer 수행 \n",
    "vectorizer = TfidfVectorizer()\n",
    "X_tfidf = vectorizer.fit_transform(main_text['본문'])\n",
    "\n",
    "\n",
    "# train 데이터와 Test데이터로 분리 \n",
    "X_train, X_test, y_train, y_test = train_test_split(X_tfidf, y, random_state = 44, test_size=0.25)\n",
    "\n",
    "# 여러 개의 모델 생성 - 로지스틱 회귀와 의사결정 나무 \n",
    "lr_model = LogisticRegression(random_state= 42)\n",
    "dt_model = DecisionTreeClassifier(random_state = 42)\n",
    "\n",
    "# 보팅 분류기 생성 (각 모델을 조합하여 보팅)\n",
    "voting_model = VotingClassifier(estimators=[(\"lr\", lr_model), (\"dt\", dt_model)], voting = \"hard\")\n",
    "\n",
    "# 모델 학습 \n",
    "voting_model.fit(X_train, y_train)\n",
    "\n",
    "# Test 데이터로 예측\n",
    "y_pred = voting_model.predict(X_test)\n",
    "\n",
    "# 성능평가 \n",
    "accuracy = accuracy_score(y_test, y_pred)\n",
    "precision = precision_score(y_test, y_pred, average=\"binary\")\n",
    "recall = recall_score(y_test, y_pred, average=\"binary\")\n",
    "f1 = f1_score(y_test, y_pred, average=\"binary\")\n",
    "print(\"앙상블 모델 : LogisticRegression/DecisionTree\") \n",
    "print(\"뉴스 본문 기준 앙상블 모델 hardVoting 결과 \")\n",
    "print(f\"Accuarcy : {accuracy:.2f}\")\n",
    "print(f\"precision : {precision:.2f}\")\n",
    "print(f\"recall : {recall:.2f}\")\n",
    "print(f\"F1-score : {f1:.2f}\")"
   ]
  },
  {
   "cell_type": "markdown",
   "id": "3513f3bf",
   "metadata": {},
   "source": [
    "# 뉴스 본문 기반 앙상블 모델 - SoftVoting"
   ]
  },
  {
   "cell_type": "code",
   "execution_count": 8,
   "id": "f23c1ac3",
   "metadata": {},
   "outputs": [
    {
     "name": "stdout",
     "output_type": "stream",
     "text": [
      "앙상블 모델 : LogisticRegression/RandomForest\n",
      "뉴스 본문 기준 앙상블 모델 SoftVoting 결과 \n",
      "Accuarcy : 0.77\n",
      "precision : 0.82\n",
      "recall : 0.84\n",
      "F1-score : 0.83\n"
     ]
    }
   ],
   "source": [
    "from sklearn.model_selection import train_test_split\n",
    "from sklearn.ensemble import VotingClassifier\n",
    "from sklearn.linear_model import LogisticRegression\n",
    "from sklearn.tree import DecisionTreeClassifier\n",
    "from sklearn.metrics import accuracy_score, precision_score, recall_score, f1_score \n",
    "from sklearn.feature_extraction.text import TfidfVectorizer\n",
    "\n",
    "main_text['본문'] = main_text['본문'].fillna('')\n",
    "X = main_text['본문']\n",
    "y = main_text['label']\n",
    "# tfidfvectorizer 수행 \n",
    "vectorizer = TfidfVectorizer()\n",
    "X_tfidf = vectorizer.fit_transform(main_text['본문'])\n",
    "\n",
    "# train 데이터와 Test데이터로 분리 \n",
    "X_train, X_test, y_train, y_test = train_test_split(X_tfidf, y, random_state = 44, test_size=0.25)\n",
    "\n",
    "# 여러 개의 모델 생성 - 로지스틱 회귀와 의사결정 나무 \n",
    "lr_model = LogisticRegression(random_state= 42)\n",
    "dt_model = DecisionTreeClassifier(random_state = 42)\n",
    "\n",
    "# 보팅 분류기 생성 (각 모델을 조합하여 보팅)\n",
    "voting_model = VotingClassifier(estimators=[(\"lr\", lr_model), (\"dt\", dt_model)], voting = \"soft\")\n",
    "\n",
    "# 모델 학습 \n",
    "voting_model.fit(X_train, y_train)\n",
    "\n",
    "# Test 데이터로 예측\n",
    "y_pred = voting_model.predict(X_test)\n",
    "\n",
    "# 성능평가 \n",
    "accuracy = accuracy_score(y_test, y_pred)\n",
    "precision = precision_score(y_test, y_pred, average=\"binary\")\n",
    "recall = recall_score(y_test, y_pred, average=\"binary\")\n",
    "f1 = f1_score(y_test, y_pred, average=\"binary\")\n",
    "print(\"앙상블 모델 : LogisticRegression/DecisionTree\") \n",
    "print(\"뉴스 본문 기준 앙상블 모델 SoftVoting 결과 \")\n",
    "print(f\"Accuarcy : {accuracy:.2f}\")\n",
    "print(f\"precision : {precision:.2f}\")\n",
    "print(f\"recall : {recall:.2f}\")\n",
    "print(f\"F1-score : {f1:.2f}\")"
   ]
  },
  {
   "cell_type": "markdown",
   "id": "a6b9f0c5",
   "metadata": {},
   "source": [
    "---\n",
    "---\n",
    "# 앙상블 기법 (LinearSVC, DecisionTree)\n",
    "## 뉴스 키워드 기반 앙상블 기법 - HardVoting"
   ]
  },
  {
   "cell_type": "code",
   "execution_count": 9,
   "id": "66e7409a",
   "metadata": {},
   "outputs": [
    {
     "name": "stderr",
     "output_type": "stream",
     "text": [
      "C:\\Users\\aischool185\\anaconda3\\envs\\machine\\lib\\site-packages\\sklearn\\svm\\_classes.py:32: FutureWarning: The default value of `dual` will change from `True` to `'auto'` in 1.5. Set the value of `dual` explicitly to suppress the warning.\n",
      "  warnings.warn(\n"
     ]
    },
    {
     "name": "stdout",
     "output_type": "stream",
     "text": [
      "앙상블 모델 : LinearSVC/RandomForest\n",
      "뉴스 키워드 기준 앙상블 모델 HardVoting 결과 \n",
      "Accuarcy : 0.79\n",
      "precision : 0.87\n",
      "recall : 0.80\n",
      "F1-score : 0.84\n"
     ]
    }
   ],
   "source": [
    "from sklearn.model_selection import train_test_split\n",
    "from sklearn.ensemble import VotingClassifier\n",
    "from sklearn.svm import LinearSVC\n",
    "from sklearn.tree import DecisionTreeClassifier\n",
    "from sklearn.metrics import accuracy_score, precision_score, recall_score, f1_score \n",
    "from sklearn.feature_extraction.text import TfidfVectorizer\n",
    "\n",
    "# 결측치 처리 \n",
    "keyword[\"키워드\"] = keyword[\"키워드\"].fillna(\"\")\n",
    "#TfidfVectorizer 수행\n",
    "vectorizer = TfidfVectorizer()\n",
    "X_tfidf = vectorizer.fit_transform(keyword[\"키워드\"])\n",
    "y = keyword[\"label\"]\n",
    "# train 데이터와 Test데이터로 분리 \n",
    "X_train, X_test, y_train, y_test = train_test_split(X_tfidf, y, random_state = 44, test_size=0.25)\n",
    "\n",
    "# 여러 개의 모델 생성 - 로지스틱 회귀와 의사결정 나무 \n",
    "svm_model = LinearSVC(random_state = 42)\n",
    "dt_model = DecisionTreeClassifier(random_state = 42)\n",
    "\n",
    "# 보팅 분류기 생성 (각 모델을 조합하여 보팅)\n",
    "voting_model = VotingClassifier(estimators=[(\"svm\", svm_model), (\"dt\", dt_model)], voting = \"hard\")\n",
    "\n",
    "# 모델 학습 \n",
    "voting_model.fit(X_train, y_train)\n",
    "\n",
    "# Test 데이터로 예측\n",
    "y_pred = voting_model.predict(X_test)\n",
    "\n",
    "# 성능평가 \n",
    "accuracy = accuracy_score(y_test, y_pred)\n",
    "precision = precision_score(y_test, y_pred, average=\"binary\")\n",
    "recall = recall_score(y_test, y_pred, average=\"binary\")\n",
    "f1 = f1_score(y_test, y_pred, average=\"binary\")\n",
    "print(\"앙상블 모델 : LinearSVC/DecisionTree\") \n",
    "print(\"뉴스 키워드 기준 앙상블 모델 HardVoting 결과 \")\n",
    "print(f\"Accuarcy : {accuracy:.2f}\")\n",
    "print(f\"precision : {precision:.2f}\")\n",
    "print(f\"recall : {recall:.2f}\")\n",
    "print(f\"F1-score : {f1:.2f}\")"
   ]
  },
  {
   "cell_type": "markdown",
   "id": "c1e57c84",
   "metadata": {},
   "source": [
    "## 뉴스 키워드 기반 앙상블 기법 - SoftVoting"
   ]
  },
  {
   "cell_type": "code",
   "execution_count": 7,
   "id": "4af8cf73",
   "metadata": {},
   "outputs": [
    {
     "name": "stdout",
     "output_type": "stream",
     "text": [
      "앙상블 모델 : LinearSVC/RandomForest\n",
      "뉴스 키워드 기준 앙상블 모델 SoftVoting 결과 \n",
      "Accuarcy : 0.77\n",
      "precision : 0.82\n",
      "recall : 0.83\n",
      "F1-score : 0.83\n"
     ]
    }
   ],
   "source": [
    "from sklearn.svm import SVC\n",
    "from sklearn.ensemble import VotingClassifier\n",
    "from sklearn.model_selection import train_test_split\n",
    "from sklearn.feature_extraction.text import TfidfVectorizer\n",
    "from sklearn.tree import DecisionTreeClassifier\n",
    "\n",
    "# 결측치 처리 \n",
    "keyword[\"키워드\"] = keyword[\"키워드\"].fillna(\"\")\n",
    "#TfidfVectorizer 수행\n",
    "vectorizer = TfidfVectorizer()\n",
    "X_tfidf = vectorizer.fit_transform(keyword[\"키워드\"])\n",
    "y = keyword[\"label\"]\n",
    "# train 데이터와 Test데이터로 분리 \n",
    "X_train, X_test, y_train, y_test = train_test_split(X_tfidf, y, random_state = 44, test_size=0.25)\n",
    "\n",
    "# 여러 개의 모델 생성 - SVC와 의사결정 나무 \n",
    "svm_model = SVC(random_state=42, probability=True)  # probability=True로 확률 값 계산 가능\n",
    "dt_model = DecisionTreeClassifier(random_state=42)\n",
    "\n",
    "# 보팅 분류기 생성 (각 모델을 조합하여 보팅)\n",
    "voting_model = VotingClassifier(estimators=[(\"svm\", svm_model), (\"dt\", dt_model)], voting=\"soft\")\n",
    "\n",
    "# 모델 학습 \n",
    "voting_model.fit(X_train, y_train)\n",
    "\n",
    "# Test 데이터로 예측\n",
    "y_pred = voting_model.predict(X_test)\n",
    "\n",
    "\n",
    "# 성능평가 \n",
    "accuracy = accuracy_score(y_test, y_pred)\n",
    "precision = precision_score(y_test, y_pred, average=\"binary\")\n",
    "recall = recall_score(y_test, y_pred, average=\"binary\")\n",
    "f1 = f1_score(y_test, y_pred, average=\"binary\")\n",
    "print(\"앙상블 모델 : SVC/DecisionTree\") \n",
    "print(\"뉴스 키워드 기준 앙상블 모델 SoftVoting 결과 \")\n",
    "print(f\"Accuarcy : {accuracy:.2f}\")\n",
    "print(f\"precision : {precision:.2f}\")\n",
    "print(f\"recall : {recall:.2f}\")\n",
    "print(f\"F1-score : {f1:.2f}\")"
   ]
  },
  {
   "cell_type": "markdown",
   "id": "fa93601d",
   "metadata": {},
   "source": [
    "# 뉴스 본문 기반 앙상블 기법 - HardVoting"
   ]
  },
  {
   "cell_type": "code",
   "execution_count": 8,
   "id": "a669b13e",
   "metadata": {},
   "outputs": [
    {
     "name": "stderr",
     "output_type": "stream",
     "text": [
      "C:\\Users\\aischool185\\anaconda3\\envs\\machine\\lib\\site-packages\\sklearn\\svm\\_classes.py:32: FutureWarning: The default value of `dual` will change from `True` to `'auto'` in 1.5. Set the value of `dual` explicitly to suppress the warning.\n",
      "  warnings.warn(\n"
     ]
    },
    {
     "name": "stdout",
     "output_type": "stream",
     "text": [
      "앙상블 모델 : LinearSVC/DecisionTree\n",
      "뉴스 본문 기준 앙상블 모델 HardVoting 결과 \n",
      "Accuarcy : 0.79\n",
      "precision : 0.86\n",
      "recall : 0.82\n",
      "F1-score : 0.84\n"
     ]
    }
   ],
   "source": [
    "from sklearn.model_selection import train_test_split\n",
    "from sklearn.ensemble import VotingClassifier\n",
    "from sklearn.svm import LinearSVC\n",
    "from sklearn.tree import DecisionTreeClassifier\n",
    "from sklearn.metrics import accuracy_score, precision_score, recall_score, f1_score \n",
    "from sklearn.feature_extraction.text import TfidfVectorizer\n",
    "main_text['본문'] = main_text['본문'].fillna('')\n",
    "X = main_text['본문']\n",
    "y = main_text['label']\n",
    "# tfidfvectorizer 수행 \n",
    "vectorizer = TfidfVectorizer()\n",
    "X_tfidf = vectorizer.fit_transform(main_text['본문'])\n",
    "\n",
    "# train 데이터와 Test데이터로 분리 \n",
    "X_train, X_test, y_train, y_test = train_test_split(X_tfidf, y, random_state = 44, test_size=0.25)\n",
    "\n",
    "# 여러 개의 모델 생성 - 로지스틱 회귀와 의사결정 나무 \n",
    "svm_model = LinearSVC(random_state = 42)\n",
    "dt_model = DecisionTreeClassifier(random_state = 42)\n",
    "\n",
    "# 보팅 분류기 생성 (각 모델을 조합하여 보팅)\n",
    "voting_model = VotingClassifier(estimators=[(\"svm\", svm_model), (\"dt\", dt_model)], voting = \"hard\")\n",
    "\n",
    "# 모델 학습 \n",
    "voting_model.fit(X_train, y_train)\n",
    "\n",
    "# Test 데이터로 예측\n",
    "y_pred = voting_model.predict(X_test)\n",
    "\n",
    "# 성능평가 \n",
    "accuracy = accuracy_score(y_test, y_pred)\n",
    "precision = precision_score(y_test, y_pred, average=\"binary\")\n",
    "recall = recall_score(y_test, y_pred, average=\"binary\")\n",
    "f1 = f1_score(y_test, y_pred, average=\"binary\")\n",
    "print(\"앙상블 모델 : LinearSVC/DecisionTree\") \n",
    "print(\"뉴스 본문 기준 앙상블 모델 HardVoting 결과 \")\n",
    "print(f\"Accuarcy : {accuracy:.2f}\")\n",
    "print(f\"precision : {precision:.2f}\")\n",
    "print(f\"recall : {recall:.2f}\")\n",
    "print(f\"F1-score : {f1:.2f}\")"
   ]
  },
  {
   "cell_type": "markdown",
   "id": "52990112",
   "metadata": {},
   "source": [
    "# 뉴스 본문 기반 앙상블 기법 - SoftVoting"
   ]
  },
  {
   "cell_type": "code",
   "execution_count": 9,
   "id": "2464d508",
   "metadata": {
    "scrolled": true
   },
   "outputs": [
    {
     "name": "stdout",
     "output_type": "stream",
     "text": [
      "앙상블 모델 : SVC/DecisionTree\n",
      "뉴스 본문 기준 앙상블 모델 SoftVoting 결과 \n",
      "Accuarcy : 0.77\n",
      "precision : 0.82\n",
      "recall : 0.83\n",
      "F1-score : 0.83\n"
     ]
    }
   ],
   "source": [
    "from sklearn.svm import SVC\n",
    "from sklearn.ensemble import VotingClassifier\n",
    "from sklearn.model_selection import train_test_split\n",
    "from sklearn.feature_extraction.text import TfidfVectorizer\n",
    "from sklearn.tree import DecisionTreeClassifier\n",
    "\n",
    "# 결측치 처리 \n",
    "keyword[\"키워드\"] = keyword[\"키워드\"].fillna(\"\")\n",
    "#TfidfVectorizer 수행\n",
    "vectorizer = TfidfVectorizer()\n",
    "X_tfidf = vectorizer.fit_transform(keyword[\"키워드\"])\n",
    "y = keyword[\"label\"]\n",
    "# train 데이터와 Test데이터로 분리 \n",
    "X_train, X_test, y_train, y_test = train_test_split(X_tfidf, y, random_state = 44, test_size=0.25)\n",
    "\n",
    "# 여러 개의 모델 생성 - SVC와 의사결정 나무 \n",
    "svm_model = SVC(random_state=42, probability=True)  # probability=True로 확률 값 계산 가능\n",
    "dt_model = DecisionTreeClassifier(random_state=42)\n",
    "\n",
    "# 보팅 분류기 생성 (각 모델을 조합하여 보팅)\n",
    "voting_model = VotingClassifier(estimators=[(\"svm\", svm_model), (\"dt\", dt_model)], voting=\"soft\")\n",
    "\n",
    "# 모델 학습 \n",
    "voting_model.fit(X_train, y_train)\n",
    "\n",
    "# Test 데이터로 예측\n",
    "y_pred = voting_model.predict(X_test)\n",
    "\n",
    "\n",
    "# 성능평가 \n",
    "accuracy = accuracy_score(y_test, y_pred)\n",
    "precision = precision_score(y_test, y_pred, average=\"binary\")\n",
    "recall = recall_score(y_test, y_pred, average=\"binary\")\n",
    "f1 = f1_score(y_test, y_pred, average=\"binary\")\n",
    "print(\"앙상블 모델 : SVC/DecisionTree\") \n",
    "print(\"뉴스 본문 기준 앙상블 모델 SoftVoting 결과 \")\n",
    "print(f\"Accuarcy : {accuracy:.2f}\")\n",
    "print(f\"precision : {precision:.2f}\")\n",
    "print(f\"recall : {recall:.2f}\")\n",
    "print(f\"F1-score : {f1:.2f}\")"
   ]
  },
  {
   "cell_type": "markdown",
   "id": "79753c66",
   "metadata": {},
   "source": [
    "---\n",
    "---\n",
    "---\n",
    "---\n",
    "---\n"
   ]
  },
  {
   "cell_type": "code",
   "execution_count": null,
   "id": "2213da31",
   "metadata": {},
   "outputs": [],
   "source": []
  },
  {
   "cell_type": "code",
   "execution_count": 5,
   "id": "8e3a1eee",
   "metadata": {},
   "outputs": [],
   "source": [
    "from sklearn.linear_model import LogisticRegression\n",
    "from sklearn.svm import LinearSVC\n",
    "from sklearn.model_selection import cross_val_score\n",
    "from sklearn.feature_extraction.text import TfidfVectorizer"
   ]
  },
  {
   "cell_type": "code",
   "execution_count": 6,
   "id": "6be45e56",
   "metadata": {},
   "outputs": [
    {
     "name": "stdout",
     "output_type": "stream",
     "text": [
      "\"제목\" 기준 점수\n"
     ]
    },
    {
     "name": "stderr",
     "output_type": "stream",
     "text": [
      "C:\\Users\\aischool185\\anaconda3\\envs\\machine\\lib\\site-packages\\sklearn\\model_selection\\_split.py:725: UserWarning: The least populated class in y has only 2 members, which is less than n_splits=3.\n",
      "  warnings.warn(\n"
     ]
    },
    {
     "name": "stdout",
     "output_type": "stream",
     "text": [
      "선형회귀모델 점수 :  [0.80691231 0.80719794 0.80434162]\n",
      "선형회귀모델 평균 :  0.8061506236313433\n",
      "서포트벡터머신 점수:  [0.81462439 0.81662382 0.82290774]\n",
      "서포트벡터머신 평균 점수:  0.8180519851471008\n"
     ]
    },
    {
     "name": "stderr",
     "output_type": "stream",
     "text": [
      "C:\\Users\\aischool185\\anaconda3\\envs\\machine\\lib\\site-packages\\sklearn\\model_selection\\_split.py:725: UserWarning: The least populated class in y has only 2 members, which is less than n_splits=3.\n",
      "  warnings.warn(\n",
      "C:\\Users\\aischool185\\anaconda3\\envs\\machine\\lib\\site-packages\\sklearn\\svm\\_classes.py:32: FutureWarning: The default value of `dual` will change from `True` to `'auto'` in 1.5. Set the value of `dual` explicitly to suppress the warning.\n",
      "  warnings.warn(\n",
      "C:\\Users\\aischool185\\anaconda3\\envs\\machine\\lib\\site-packages\\sklearn\\svm\\_classes.py:32: FutureWarning: The default value of `dual` will change from `True` to `'auto'` in 1.5. Set the value of `dual` explicitly to suppress the warning.\n",
      "  warnings.warn(\n",
      "C:\\Users\\aischool185\\anaconda3\\envs\\machine\\lib\\site-packages\\sklearn\\svm\\_classes.py:32: FutureWarning: The default value of `dual` will change from `True` to `'auto'` in 1.5. Set the value of `dual` explicitly to suppress the warning.\n",
      "  warnings.warn(\n"
     ]
    }
   ],
   "source": [
    "# 제목 기준 \n",
    "print('\"' + title.columns[0] + '\"', \"기준 점수\")\n",
    "vectorizer = TfidfVectorizer()\n",
    "X = title['제목']\n",
    "y = title['label']\n",
    "\n",
    "#  학습데이터 벡터화 - 벡터화할 때는 X(학습 데이터)만 하기 \n",
    "vectorizer = TfidfVectorizer()\n",
    "X_tfidf = vectorizer.fit_transform(X)\n",
    "X_train, X_test, y_train, y_test = train_test_split(X_tfidf, y, test_size = 0.25, random_state=42)\n",
    "\n",
    "# logisticregresiion 점수 \n",
    "logi_model = LogisticRegression()\n",
    "# logi_model.fit(X_train, y_train)\n",
    "\n",
    "logi_result= cross_val_score(logi_model, X_train, y_train, cv=3)\n",
    "\n",
    "\n",
    "# 서포트벡터머신 점수 \n",
    "svm_model = LinearSVC()\n",
    "svm_result = cross_val_score(svm_model, X_train, y_train, cv=3)\n",
    "\n",
    "print(\"선형회귀모델 점수 : \", logi_result)\n",
    "print(\"선형회귀모델 평균 : \", logi_result.mean())\n",
    "\n",
    "print(\"서포트벡터머신 점수: \", svm_result)\n",
    "print(\"서포트벡터머신 평균 점수: \",svm_result.mean())"
   ]
  },
  {
   "cell_type": "code",
   "execution_count": 7,
   "id": "5e871bd2",
   "metadata": {
    "scrolled": true
   },
   "outputs": [
    {
     "name": "stdout",
     "output_type": "stream",
     "text": [
      "\"키워드\" 기준 점수\n"
     ]
    },
    {
     "name": "stderr",
     "output_type": "stream",
     "text": [
      "C:\\Users\\aischool185\\anaconda3\\envs\\machine\\lib\\site-packages\\sklearn\\model_selection\\_split.py:725: UserWarning: The least populated class in y has only 2 members, which is less than n_splits=3.\n",
      "  warnings.warn(\n",
      "C:\\Users\\aischool185\\anaconda3\\envs\\machine\\lib\\site-packages\\sklearn\\model_selection\\_split.py:725: UserWarning: The least populated class in y has only 2 members, which is less than n_splits=3.\n",
      "  warnings.warn(\n",
      "C:\\Users\\aischool185\\anaconda3\\envs\\machine\\lib\\site-packages\\sklearn\\svm\\_classes.py:32: FutureWarning: The default value of `dual` will change from `True` to `'auto'` in 1.5. Set the value of `dual` explicitly to suppress the warning.\n",
      "  warnings.warn(\n",
      "C:\\Users\\aischool185\\anaconda3\\envs\\machine\\lib\\site-packages\\sklearn\\svm\\_classes.py:32: FutureWarning: The default value of `dual` will change from `True` to `'auto'` in 1.5. Set the value of `dual` explicitly to suppress the warning.\n",
      "  warnings.warn(\n",
      "C:\\Users\\aischool185\\anaconda3\\envs\\machine\\lib\\site-packages\\sklearn\\svm\\_classes.py:32: FutureWarning: The default value of `dual` will change from `True` to `'auto'` in 1.5. Set the value of `dual` explicitly to suppress the warning.\n",
      "  warnings.warn(\n"
     ]
    },
    {
     "name": "stdout",
     "output_type": "stream",
     "text": [
      "선형회귀모델 점수 :  [0.84747215 0.83147672 0.8417595 ]\n",
      "선형회귀모델 평균 :  0.8402361230124726\n",
      "서포트벡터머신 점수:  [0.84461582 0.83576121 0.84147386]\n",
      "서포트벡터머신 평균 점수:  0.8406169665809768\n"
     ]
    }
   ],
   "source": [
    "# 키워드기준 \n",
    "\n",
    "# 결측값을 빈 문자열로 대체하여 오류 해결\n",
    "keyword['키워드'] = keyword['키워드'].fillna('')\n",
    "\n",
    "\n",
    "print('\"' + keyword.columns[0] + '\"', \"기준 점수\")\n",
    "vectorizer = TfidfVectorizer()\n",
    "X = keyword['키워드']\n",
    "y = keyword['label']\n",
    "\n",
    "#  학습데이터 벡터화 - 벡터화할 때는 X(학습 데이터)만 하기 \n",
    "X_tfidf = vectorizer.fit_transform(X)\n",
    "X_train, X_test, y_train, y_test = train_test_split(X_tfidf, y, test_size = 0.25, random_state=42)\n",
    "\n",
    "# logisticregresiion 점수 \n",
    "logi_model = LogisticRegression()\n",
    "# logi_model.fit(X_train, y_train)\n",
    "\n",
    "logi_result= cross_val_score(logi_model, X_train, y_train, cv=3)\n",
    "\n",
    "# 서포트벡터머신 점수 \n",
    "svm_model = LinearSVC()\n",
    "svm_result = cross_val_score(svm_model, X_train, y_train, cv=3)\n",
    "\n",
    "print(\"선형회귀모델 점수 : \", logi_result)\n",
    "print(\"선형회귀모델 평균 : \", logi_result.mean())\n",
    "\n",
    "\n",
    "print(\"서포트벡터머신 점수: \", svm_result)\n",
    "print(\"서포트벡터머신 평균 점수: \",svm_result.mean())"
   ]
  },
  {
   "cell_type": "code",
   "execution_count": 8,
   "id": "4382a1c5",
   "metadata": {
    "scrolled": false
   },
   "outputs": [
    {
     "name": "stdout",
     "output_type": "stream",
     "text": [
      "\"특성추출(가중치순 상위 50개)\" 기준 점수\n"
     ]
    },
    {
     "name": "stderr",
     "output_type": "stream",
     "text": [
      "C:\\Users\\aischool185\\anaconda3\\envs\\machine\\lib\\site-packages\\sklearn\\model_selection\\_split.py:725: UserWarning: The least populated class in y has only 2 members, which is less than n_splits=3.\n",
      "  warnings.warn(\n"
     ]
    },
    {
     "name": "stdout",
     "output_type": "stream",
     "text": [
      "선형회귀모델 점수 :  [0.83090546 0.82005141 0.8260497 ]\n",
      "선형회귀모델 평균 :  0.8256688565171855\n",
      "서포트벡터머신 점수:  [0.83290488 0.8269066  0.82947729]\n",
      "서포트벡터머신 평균 점수:  0.8297629248786061\n"
     ]
    },
    {
     "name": "stderr",
     "output_type": "stream",
     "text": [
      "C:\\Users\\aischool185\\anaconda3\\envs\\machine\\lib\\site-packages\\sklearn\\model_selection\\_split.py:725: UserWarning: The least populated class in y has only 2 members, which is less than n_splits=3.\n",
      "  warnings.warn(\n",
      "C:\\Users\\aischool185\\anaconda3\\envs\\machine\\lib\\site-packages\\sklearn\\svm\\_classes.py:32: FutureWarning: The default value of `dual` will change from `True` to `'auto'` in 1.5. Set the value of `dual` explicitly to suppress the warning.\n",
      "  warnings.warn(\n",
      "C:\\Users\\aischool185\\anaconda3\\envs\\machine\\lib\\site-packages\\sklearn\\svm\\_classes.py:32: FutureWarning: The default value of `dual` will change from `True` to `'auto'` in 1.5. Set the value of `dual` explicitly to suppress the warning.\n",
      "  warnings.warn(\n",
      "C:\\Users\\aischool185\\anaconda3\\envs\\machine\\lib\\site-packages\\sklearn\\svm\\_classes.py:32: FutureWarning: The default value of `dual` will change from `True` to `'auto'` in 1.5. Set the value of `dual` explicitly to suppress the warning.\n",
      "  warnings.warn(\n"
     ]
    }
   ],
   "source": [
    "# 특성추출(가중치순 상위 50개) 기준 \n",
    "\n",
    "# 결측값을 빈 문자열로 대체하여 오류 해결\n",
    "feature['특성추출(가중치순 상위 50개)'] = feature['특성추출(가중치순 상위 50개)'].fillna('')\n",
    "\n",
    "\n",
    "print('\"' + feature.columns[0] + '\"', \"기준 점수\")\n",
    "vectorizer = TfidfVectorizer()\n",
    "X = feature['특성추출(가중치순 상위 50개)']\n",
    "y = keyword['label']\n",
    "\n",
    "#  학습데이터 벡터화 - 벡터화할 때는 X(학습 데이터)만 하기 \n",
    "X_tfidf = vectorizer.fit_transform(X)\n",
    "X_train, X_test, y_train, y_test = train_test_split(X_tfidf, y, test_size = 0.25, random_state=42)\n",
    "\n",
    "# logisticregresiion 점수 \n",
    "logi_model = LogisticRegression()\n",
    "# logi_model.fit(X_train, y_train)\n",
    "\n",
    "logi_result= cross_val_score(logi_model, X_train, y_train, cv=3)\n",
    "\n",
    "# 서포트벡터머신 점수 \n",
    "svm_model = LinearSVC()\n",
    "svm_result = cross_val_score(svm_model, X_train, y_train, cv=3)\n",
    "\n",
    "print(\"선형회귀모델 점수 : \", logi_result)\n",
    "print(\"선형회귀모델 평균 : \", logi_result.mean())\n",
    "\n",
    "\n",
    "print(\"서포트벡터머신 점수: \", svm_result)\n",
    "print(\"서포트벡터머신 평균 점수: \",svm_result.mean())"
   ]
  },
  {
   "cell_type": "code",
   "execution_count": 9,
   "id": "1f25cf2c",
   "metadata": {
    "scrolled": false
   },
   "outputs": [
    {
     "name": "stdout",
     "output_type": "stream",
     "text": [
      "\"본문\" 기준 점수\n"
     ]
    },
    {
     "name": "stderr",
     "output_type": "stream",
     "text": [
      "C:\\Users\\aischool185\\anaconda3\\envs\\machine\\lib\\site-packages\\sklearn\\model_selection\\_split.py:725: UserWarning: The least populated class in y has only 2 members, which is less than n_splits=3.\n",
      "  warnings.warn(\n",
      "C:\\Users\\aischool185\\anaconda3\\envs\\machine\\lib\\site-packages\\sklearn\\model_selection\\_split.py:725: UserWarning: The least populated class in y has only 2 members, which is less than n_splits=3.\n",
      "  warnings.warn(\n",
      "C:\\Users\\aischool185\\anaconda3\\envs\\machine\\lib\\site-packages\\sklearn\\svm\\_classes.py:32: FutureWarning: The default value of `dual` will change from `True` to `'auto'` in 1.5. Set the value of `dual` explicitly to suppress the warning.\n",
      "  warnings.warn(\n",
      "C:\\Users\\aischool185\\anaconda3\\envs\\machine\\lib\\site-packages\\sklearn\\svm\\_classes.py:32: FutureWarning: The default value of `dual` will change from `True` to `'auto'` in 1.5. Set the value of `dual` explicitly to suppress the warning.\n",
      "  warnings.warn(\n",
      "C:\\Users\\aischool185\\anaconda3\\envs\\machine\\lib\\site-packages\\sklearn\\svm\\_classes.py:32: FutureWarning: The default value of `dual` will change from `True` to `'auto'` in 1.5. Set the value of `dual` explicitly to suppress the warning.\n",
      "  warnings.warn(\n"
     ]
    },
    {
     "name": "stdout",
     "output_type": "stream",
     "text": [
      "선형회귀모델 점수 :  [0.82890603 0.82462154 0.82205084]\n",
      "선형회귀모델 평균 :  0.8251928020565552\n",
      "서포트벡터머신 점수:  [0.83718937 0.83147672 0.83890317]\n",
      "서포트벡터머신 평균 점수:  0.8358564219746739\n"
     ]
    }
   ],
   "source": [
    "# 본문 기준 \n",
    "\n",
    "# 결측값을 빈 문자열로 대체하여 오류 해결\n",
    "main_text['본문'] = main_text['본문'].fillna('')\n",
    "\n",
    "\n",
    "print('\"' + main_text.columns[0] + '\"', \"기준 점수\")\n",
    "vectorizer = TfidfVectorizer()\n",
    "\n",
    "X = main_text['본문']\n",
    "y = main_text['label']\n",
    "\n",
    "#  학습데이터 벡터화 - 벡터화할 때는 X(학습 데이터)만 하기 \n",
    "X_tfidf = vectorizer.fit_transform(X)\n",
    "X_train, X_test, y_train, y_test = train_test_split(X_tfidf, y, test_size = 0.25, random_state=42)\n",
    "\n",
    "# logisticregresiion 점수 \n",
    "logi_model = LogisticRegression()\n",
    "# logi_model.fit(X_train, y_train)\n",
    "\n",
    "logi_result= cross_val_score(logi_model, X_train, y_train, cv=3)\n",
    "\n",
    "# 서포트벡터머신 점수 \n",
    "svm_model = LinearSVC()\n",
    "svm_result = cross_val_score(svm_model, X_train, y_train, cv=3)\n",
    "\n",
    "print(\"선형회귀모델 점수 : \", logi_result)\n",
    "print(\"선형회귀모델 평균 : \", logi_result.mean())\n",
    "\n",
    "\n",
    "print(\"서포트벡터머신 점수: \", svm_result)\n",
    "print(\"서포트벡터머신 평균 점수: \",svm_result.mean())"
   ]
  },
  {
   "cell_type": "markdown",
   "id": "46733361",
   "metadata": {},
   "source": [
    "---\n",
    "---\n",
    "---\n",
    "---\n",
    "# 긍정 /부정 따로 나눠서 점수 산출해보기 - 말이 안됨 이진 분류인데 하나를 없애면 분류가 안됨"
   ]
  },
  {
   "cell_type": "markdown",
   "id": "97460aeb",
   "metadata": {},
   "source": [
    "---\n",
    "---\n",
    "# 본문 기준 파라미터 수정하여 score 산출"
   ]
  },
  {
   "cell_type": "code",
   "execution_count": 11,
   "id": "6d44cd9c",
   "metadata": {},
   "outputs": [
    {
     "name": "stdout",
     "output_type": "stream",
     "text": [
      "\"본문\" 기준 점수\n"
     ]
    },
    {
     "name": "stderr",
     "output_type": "stream",
     "text": [
      "C:\\Users\\aischool185\\anaconda3\\envs\\machine\\lib\\site-packages\\sklearn\\model_selection\\_split.py:725: UserWarning: The least populated class in y has only 2 members, which is less than n_splits=3.\n",
      "  warnings.warn(\n"
     ]
    },
    {
     "name": "stdout",
     "output_type": "stream",
     "text": [
      "선형회귀모델 점수:  [0.83747501 0.8260497  0.83204799]\n",
      "선형회귀모델 평균:  0.8318575645053793\n",
      "Accuracy: 0.83\n",
      "Precision: 0.56\n",
      "Recall: 0.52\n",
      "F1-score: 0.53\n"
     ]
    },
    {
     "name": "stderr",
     "output_type": "stream",
     "text": [
      "C:\\Users\\aischool185\\anaconda3\\envs\\machine\\lib\\site-packages\\sklearn\\metrics\\_classification.py:1469: UndefinedMetricWarning: Precision is ill-defined and being set to 0.0 in labels with no predicted samples. Use `zero_division` parameter to control this behavior.\n",
      "  _warn_prf(average, modifier, msg_start, len(result))\n"
     ]
    },
    {
     "data": {
      "image/png": "[encoded data removed]",
      "text/plain": [
       "<Figure size 800x600 with 2 Axes>"
      ]
     },
     "metadata": {},
     "output_type": "display_data"
    }
   ],
   "source": [
    "from sklearn.linear_model import LogisticRegression\n",
    "from sklearn.feature_extraction.text import TfidfVectorizer\n",
    "from sklearn.model_selection import train_test_split, cross_val_score\n",
    "from sklearn.metrics import accuracy_score, precision_score, recall_score, f1_score, confusion_matrix\n",
    "import matplotlib.pyplot as plt\n",
    "import seaborn as sns\n",
    "\n",
    "# 결측값을 빈 문자열로 대체하여 오류 해결\n",
    "main_text['본문'] = main_text['본문'].fillna('')\n",
    "\n",
    "print('\"' + main_text.columns[0] + '\"', \"기준 점수\")\n",
    "\n",
    "X = main_text['본문']\n",
    "y = main_text['label']\n",
    "\n",
    "# 학습데이터 벡터화\n",
    "vectorizer = TfidfVectorizer(min_df=3, ngram_range=(1, 3))\n",
    "X_tfidf = vectorizer.fit_transform(X)\n",
    "X_train, X_test, y_train, y_test = train_test_split(X_tfidf, y, test_size=0.25, random_state=42)\n",
    "\n",
    "# logisticregresiion 점수\n",
    "logi_model = LogisticRegression(C=1)\n",
    "logi_result = cross_val_score(logi_model, X_train, y_train, cv=3)\n",
    "\n",
    "print(\"선형회귀모델 점수: \", logi_result)\n",
    "print(\"선형회귀모델 평균: \", logi_result.mean())\n",
    "\n",
    "# 모델 학습 및 예측\n",
    "logi_model.fit(X_train, y_train)\n",
    "y_pred = logi_model.predict(X_test)\n",
    "\n",
    "# 평가 지표 계산\n",
    "accuracy = accuracy_score(y_test, y_pred)\n",
    "precision = precision_score(y_test, y_pred, average='macro')\n",
    "recall = recall_score(y_test, y_pred, average='macro')\n",
    "f1 = f1_score(y_test, y_pred, average='macro')\n",
    "\n",
    "print(\"Accuracy: {:.2f}\".format(accuracy))\n",
    "print(\"Precision: {:.2f}\".format(precision))\n",
    "print(\"Recall: {:.2f}\".format(recall))\n",
    "print(\"F1-score: {:.2f}\".format(f1))\n",
    "\n",
    "# Confusion matrix 계산\n",
    "cm = confusion_matrix(y_test, y_pred)\n",
    "\n",
    "# Confusion matrix를 히트맵으로 그리기\n",
    "plt.figure(figsize=(8, 6))\n",
    "sns.heatmap(cm, annot=True, cmap=\"Blues\", fmt=\"d\", annot_kws={\"size\": 16})\n",
    "plt.xlabel('Predicted Label')\n",
    "plt.ylabel('True Label')\n",
    "plt.title('Confusion Matrix')\n",
    "plt.show()\n"
   ]
  },
  {
   "cell_type": "code",
   "execution_count": 12,
   "id": "b3f2d103",
   "metadata": {},
   "outputs": [
    {
     "name": "stdout",
     "output_type": "stream",
     "text": [
      "\"키워드\" 기준 점수\n"
     ]
    },
    {
     "name": "stderr",
     "output_type": "stream",
     "text": [
      "C:\\Users\\aischool185\\anaconda3\\envs\\machine\\lib\\site-packages\\sklearn\\model_selection\\_split.py:725: UserWarning: The least populated class in y has only 2 members, which is less than n_splits=3.\n",
      "  warnings.warn(\n"
     ]
    },
    {
     "name": "stdout",
     "output_type": "stream",
     "text": [
      "선형회귀모델 점수:  [0.85004284 0.83004856 0.84147386]\n",
      "선형회귀모델 평균:  0.8405217556888509\n",
      "Accuracy: 0.84\n",
      "Precision: 0.56\n",
      "Recall: 0.53\n",
      "F1-score: 0.54\n"
     ]
    },
    {
     "name": "stderr",
     "output_type": "stream",
     "text": [
      "C:\\Users\\aischool185\\anaconda3\\envs\\machine\\lib\\site-packages\\sklearn\\metrics\\_classification.py:1469: UndefinedMetricWarning: Precision is ill-defined and being set to 0.0 in labels with no predicted samples. Use `zero_division` parameter to control this behavior.\n",
      "  _warn_prf(average, modifier, msg_start, len(result))\n"
     ]
    },
    {
     "data": {
      "image/png": "[encoded data removed]",
      "text/plain": [
       "<Figure size 800x600 with 2 Axes>"
      ]
     },
     "metadata": {},
     "output_type": "display_data"
    }
   ],
   "source": [
    "from sklearn.linear_model import LogisticRegression\n",
    "from sklearn.svm import LinearSVC\n",
    "from sklearn.feature_extraction.text import TfidfVectorizer\n",
    "from sklearn.model_selection import train_test_split, cross_val_score\n",
    "from sklearn.metrics import accuracy_score, precision_score, recall_score, f1_score, confusion_matrix\n",
    "import matplotlib.pyplot as plt\n",
    "import seaborn as sns\n",
    "\n",
    "# 키워드기준 \n",
    "\n",
    "# 결측값을 빈 문자열로 대체하여 오류 해결\n",
    "keyword['키워드'] = keyword['키워드'].fillna('')\n",
    "\n",
    "\n",
    "print('\"' + keyword.columns[0] + '\"', \"기준 점수\")\n",
    "vectorizer = TfidfVectorizer()\n",
    "X = keyword['키워드']\n",
    "y = keyword['label']\n",
    "\n",
    "# 학습데이터 벡터화\n",
    "vectorizer = TfidfVectorizer(min_df=3, ngram_range=(1, 3))\n",
    "X_tfidf = vectorizer.fit_transform(X)\n",
    "X_train, X_test, y_train, y_test = train_test_split(X_tfidf, y, test_size=0.25, random_state=42)\n",
    "\n",
    "# logisticregresiion 점수\n",
    "logi_model = LogisticRegression(C=1)\n",
    "logi_result = cross_val_score(logi_model, X_train, y_train, cv=3)\n",
    "\n",
    "print(\"선형회귀모델 점수: \", logi_result)\n",
    "print(\"선형회귀모델 평균: \", logi_result.mean())\n",
    "\n",
    "# 모델 학습 및 예측\n",
    "logi_model.fit(X_train, y_train)\n",
    "y_pred = logi_model.predict(X_test)\n",
    "\n",
    "# 평가 지표 계산\n",
    "accuracy = accuracy_score(y_test, y_pred)\n",
    "precision = precision_score(y_test, y_pred, average='macro')\n",
    "recall = recall_score(y_test, y_pred, average='macro')\n",
    "f1 = f1_score(y_test, y_pred, average='macro')\n",
    "\n",
    "print(\"Accuracy: {:.2f}\".format(accuracy))\n",
    "print(\"Precision: {:.2f}\".format(precision))\n",
    "print(\"Recall: {:.2f}\".format(recall))\n",
    "print(\"F1-score: {:.2f}\".format(f1))\n",
    "\n",
    "# Confusion matrix 계산\n",
    "cm = confusion_matrix(y_test, y_pred)\n",
    "\n",
    "# Confusion matrix를 히트맵으로 그리기\n",
    "plt.figure(figsize=(8, 6))\n",
    "sns.heatmap(cm, annot=True, cmap=\"Blues\", fmt=\"d\", annot_kws={\"size\": 16})\n",
    "plt.xlabel('Predicted Label')\n",
    "plt.ylabel('True Label')\n",
    "plt.title('Confusion Matrix')\n",
    "plt.show()\n",
    "\n"
   ]
  },
  {
   "cell_type": "code",
   "execution_count": null,
   "id": "e1abfda1",
   "metadata": {},
   "outputs": [],
   "source": []
  },
  {
   "cell_type": "code",
   "execution_count": 11,
   "id": "dc61c2cc",
   "metadata": {},
   "outputs": [],
   "source": [
    "from sklearn.svm import LinearSVC\n",
    "from sklearn.feature_extraction.text import TfidfVectorizer\n",
    "from sklearn.pipeline import Pipeline\n",
    "from sklearn.model_selection import GridSearchCV\n",
    "X = main_text['본문']\n",
    "y = main_text['label']\n",
    "news_pipe_line = Pipeline([\n",
    "    ('tfidfvectorizer', TfidfVectorizer()),\n",
    "    ('linearsvc', LinearSVC())\n",
    "])\n",
    "\n"
   ]
  },
  {
   "cell_type": "code",
   "execution_count": 12,
   "id": "6d6316ca",
   "metadata": {},
   "outputs": [],
   "source": [
    "param_grid = {\n",
    "    'linearsvc__C': [0.001, 0.01, 0.1, 1, 10, 100],\n",
    "\n",
    "}"
   ]
  },
  {
   "cell_type": "code",
   "execution_count": 13,
   "id": "f17e3a8d",
   "metadata": {},
   "outputs": [],
   "source": [
    "grid = GridSearchCV(news_pipe_line, param_grid, cv=3)"
   ]
  },
  {
   "cell_type": "code",
   "execution_count": 14,
   "id": "e6c37fe6",
   "metadata": {
    "scrolled": true
   },
   "outputs": [
    {
     "name": "stderr",
     "output_type": "stream",
     "text": [
      "C:\\Users\\aischool185\\anaconda3\\envs\\machine\\lib\\site-packages\\sklearn\\svm\\_classes.py:32: FutureWarning: The default value of `dual` will change from `True` to `'auto'` in 1.5. Set the value of `dual` explicitly to suppress the warning.\n",
      "  warnings.warn(\n",
      "C:\\Users\\aischool185\\anaconda3\\envs\\machine\\lib\\site-packages\\sklearn\\svm\\_classes.py:32: FutureWarning: The default value of `dual` will change from `True` to `'auto'` in 1.5. Set the value of `dual` explicitly to suppress the warning.\n",
      "  warnings.warn(\n",
      "C:\\Users\\aischool185\\anaconda3\\envs\\machine\\lib\\site-packages\\sklearn\\svm\\_classes.py:32: FutureWarning: The default value of `dual` will change from `True` to `'auto'` in 1.5. Set the value of `dual` explicitly to suppress the warning.\n",
      "  warnings.warn(\n",
      "C:\\Users\\aischool185\\anaconda3\\envs\\machine\\lib\\site-packages\\sklearn\\svm\\_classes.py:32: FutureWarning: The default value of `dual` will change from `True` to `'auto'` in 1.5. Set the value of `dual` explicitly to suppress the warning.\n",
      "  warnings.warn(\n",
      "C:\\Users\\aischool185\\anaconda3\\envs\\machine\\lib\\site-packages\\sklearn\\svm\\_classes.py:32: FutureWarning: The default value of `dual` will change from `True` to `'auto'` in 1.5. Set the value of `dual` explicitly to suppress the warning.\n",
      "  warnings.warn(\n",
      "C:\\Users\\aischool185\\anaconda3\\envs\\machine\\lib\\site-packages\\sklearn\\svm\\_classes.py:32: FutureWarning: The default value of `dual` will change from `True` to `'auto'` in 1.5. Set the value of `dual` explicitly to suppress the warning.\n",
      "  warnings.warn(\n",
      "C:\\Users\\aischool185\\anaconda3\\envs\\machine\\lib\\site-packages\\sklearn\\svm\\_classes.py:32: FutureWarning: The default value of `dual` will change from `True` to `'auto'` in 1.5. Set the value of `dual` explicitly to suppress the warning.\n",
      "  warnings.warn(\n",
      "C:\\Users\\aischool185\\anaconda3\\envs\\machine\\lib\\site-packages\\sklearn\\svm\\_classes.py:32: FutureWarning: The default value of `dual` will change from `True` to `'auto'` in 1.5. Set the value of `dual` explicitly to suppress the warning.\n",
      "  warnings.warn(\n",
      "C:\\Users\\aischool185\\anaconda3\\envs\\machine\\lib\\site-packages\\sklearn\\svm\\_classes.py:32: FutureWarning: The default value of `dual` will change from `True` to `'auto'` in 1.5. Set the value of `dual` explicitly to suppress the warning.\n",
      "  warnings.warn(\n",
      "C:\\Users\\aischool185\\anaconda3\\envs\\machine\\lib\\site-packages\\sklearn\\svm\\_classes.py:32: FutureWarning: The default value of `dual` will change from `True` to `'auto'` in 1.5. Set the value of `dual` explicitly to suppress the warning.\n",
      "  warnings.warn(\n",
      "C:\\Users\\aischool185\\anaconda3\\envs\\machine\\lib\\site-packages\\sklearn\\svm\\_classes.py:32: FutureWarning: The default value of `dual` will change from `True` to `'auto'` in 1.5. Set the value of `dual` explicitly to suppress the warning.\n",
      "  warnings.warn(\n",
      "C:\\Users\\aischool185\\anaconda3\\envs\\machine\\lib\\site-packages\\sklearn\\svm\\_classes.py:32: FutureWarning: The default value of `dual` will change from `True` to `'auto'` in 1.5. Set the value of `dual` explicitly to suppress the warning.\n",
      "  warnings.warn(\n",
      "C:\\Users\\aischool185\\anaconda3\\envs\\machine\\lib\\site-packages\\sklearn\\svm\\_classes.py:32: FutureWarning: The default value of `dual` will change from `True` to `'auto'` in 1.5. Set the value of `dual` explicitly to suppress the warning.\n",
      "  warnings.warn(\n",
      "C:\\Users\\aischool185\\anaconda3\\envs\\machine\\lib\\site-packages\\sklearn\\svm\\_classes.py:32: FutureWarning: The default value of `dual` will change from `True` to `'auto'` in 1.5. Set the value of `dual` explicitly to suppress the warning.\n",
      "  warnings.warn(\n",
      "C:\\Users\\aischool185\\anaconda3\\envs\\machine\\lib\\site-packages\\sklearn\\svm\\_classes.py:32: FutureWarning: The default value of `dual` will change from `True` to `'auto'` in 1.5. Set the value of `dual` explicitly to suppress the warning.\n",
      "  warnings.warn(\n",
      "C:\\Users\\aischool185\\anaconda3\\envs\\machine\\lib\\site-packages\\sklearn\\svm\\_classes.py:32: FutureWarning: The default value of `dual` will change from `True` to `'auto'` in 1.5. Set the value of `dual` explicitly to suppress the warning.\n",
      "  warnings.warn(\n",
      "C:\\Users\\aischool185\\anaconda3\\envs\\machine\\lib\\site-packages\\sklearn\\svm\\_base.py:1242: ConvergenceWarning: Liblinear failed to converge, increase the number of iterations.\n",
      "  warnings.warn(\n",
      "C:\\Users\\aischool185\\anaconda3\\envs\\machine\\lib\\site-packages\\sklearn\\svm\\_classes.py:32: FutureWarning: The default value of `dual` will change from `True` to `'auto'` in 1.5. Set the value of `dual` explicitly to suppress the warning.\n",
      "  warnings.warn(\n",
      "C:\\Users\\aischool185\\anaconda3\\envs\\machine\\lib\\site-packages\\sklearn\\svm\\_base.py:1242: ConvergenceWarning: Liblinear failed to converge, increase the number of iterations.\n",
      "  warnings.warn(\n",
      "C:\\Users\\aischool185\\anaconda3\\envs\\machine\\lib\\site-packages\\sklearn\\svm\\_classes.py:32: FutureWarning: The default value of `dual` will change from `True` to `'auto'` in 1.5. Set the value of `dual` explicitly to suppress the warning.\n",
      "  warnings.warn(\n",
      "C:\\Users\\aischool185\\anaconda3\\envs\\machine\\lib\\site-packages\\sklearn\\svm\\_base.py:1242: ConvergenceWarning: Liblinear failed to converge, increase the number of iterations.\n",
      "  warnings.warn(\n",
      "C:\\Users\\aischool185\\anaconda3\\envs\\machine\\lib\\site-packages\\sklearn\\svm\\_classes.py:32: FutureWarning: The default value of `dual` will change from `True` to `'auto'` in 1.5. Set the value of `dual` explicitly to suppress the warning.\n",
      "  warnings.warn(\n"
     ]
    },
    {
     "data": {
      "text/html": [
       "<style>#sk-container-id-1 {color: black;}#sk-container-id-1 pre{padding: 0;}#sk-container-id-1 div.sk-toggleable {background-color: white;}#sk-container-id-1 label.sk-toggleable__label {cursor: pointer;display: block;width: 100%;margin-bottom: 0;padding: 0.3em;box-sizing: border-box;text-align: center;}#sk-container-id-1 label.sk-toggleable__label-arrow:before {content: \"▸\";float: left;margin-right: 0.25em;color: #696969;}#sk-container-id-1 label.sk-toggleable__label-arrow:hover:before {color: black;}#sk-container-id-1 div.sk-estimator:hover label.sk-toggleable__label-arrow:before {color: black;}#sk-container-id-1 div.sk-toggleable__content {max-height: 0;max-width: 0;overflow: hidden;text-align: left;background-color: #f0f8ff;}#sk-container-id-1 div.sk-toggleable__content pre {margin: 0.2em;color: black;border-radius: 0.25em;background-color: #f0f8ff;}#sk-container-id-1 input.sk-toggleable__control:checked~div.sk-toggleable__content {max-height: 200px;max-width: 100%;overflow: auto;}#sk-container-id-1 input.sk-toggleable__control:checked~label.sk-toggleable__label-arrow:before {content: \"▾\";}#sk-container-id-1 div.sk-estimator input.sk-toggleable__control:checked~label.sk-toggleable__label {background-color: #d4ebff;}#sk-container-id-1 div.sk-label input.sk-toggleable__control:checked~label.sk-toggleable__label {background-color: #d4ebff;}#sk-container-id-1 input.sk-hidden--visually {border: 0;clip: rect(1px 1px 1px 1px);clip: rect(1px, 1px, 1px, 1px);height: 1px;margin: -1px;overflow: hidden;padding: 0;position: absolute;width: 1px;}#sk-container-id-1 div.sk-estimator {font-family: monospace;background-color: #f0f8ff;border: 1px dotted black;border-radius: 0.25em;box-sizing: border-box;margin-bottom: 0.5em;}#sk-container-id-1 div.sk-estimator:hover {background-color: #d4ebff;}#sk-container-id-1 div.sk-parallel-item::after {content: \"\";width: 100%;border-bottom: 1px solid gray;flex-grow: 1;}#sk-container-id-1 div.sk-label:hover label.sk-toggleable__label {background-color: #d4ebff;}#sk-container-id-1 div.sk-serial::before {content: \"\";position: absolute;border-left: 1px solid gray;box-sizing: border-box;top: 0;bottom: 0;left: 50%;z-index: 0;}#sk-container-id-1 div.sk-serial {display: flex;flex-direction: column;align-items: center;background-color: white;padding-right: 0.2em;padding-left: 0.2em;position: relative;}#sk-container-id-1 div.sk-item {position: relative;z-index: 1;}#sk-container-id-1 div.sk-parallel {display: flex;align-items: stretch;justify-content: center;background-color: white;position: relative;}#sk-container-id-1 div.sk-item::before, #sk-container-id-1 div.sk-parallel-item::before {content: \"\";position: absolute;border-left: 1px solid gray;box-sizing: border-box;top: 0;bottom: 0;left: 50%;z-index: -1;}#sk-container-id-1 div.sk-parallel-item {display: flex;flex-direction: column;z-index: 1;position: relative;background-color: white;}#sk-container-id-1 div.sk-parallel-item:first-child::after {align-self: flex-end;width: 50%;}#sk-container-id-1 div.sk-parallel-item:last-child::after {align-self: flex-start;width: 50%;}#sk-container-id-1 div.sk-parallel-item:only-child::after {width: 0;}#sk-container-id-1 div.sk-dashed-wrapped {border: 1px dashed gray;margin: 0 0.4em 0.5em 0.4em;box-sizing: border-box;padding-bottom: 0.4em;background-color: white;}#sk-container-id-1 div.sk-label label {font-family: monospace;font-weight: bold;display: inline-block;line-height: 1.2em;}#sk-container-id-1 div.sk-label-container {text-align: center;}#sk-container-id-1 div.sk-container {/* jupyter's `normalize.less` sets `[hidden] { display: none; }` but bootstrap.min.css set `[hidden] { display: none !important; }` so we also need the `!important` here to be able to override the default hidden behavior on the sphinx rendered scikit-learn.org. See: https://github.com/scikit-learn/scikit-learn/issues/21755 */display: inline-block !important;position: relative;}#sk-container-id-1 div.sk-text-repr-fallback {display: none;}</style><div id=\"sk-container-id-1\" class=\"sk-top-container\"><div class=\"sk-text-repr-fallback\"><pre>GridSearchCV(cv=3,\n",
       "             estimator=Pipeline(steps=[(&#x27;tfidfvectorizer&#x27;, TfidfVectorizer()),\n",
       "                                       (&#x27;linearsvc&#x27;, LinearSVC())]),\n",
       "             param_grid={&#x27;linearsvc__C&#x27;: [0.001, 0.01, 0.1, 1, 10, 100]})</pre><b>In a Jupyter environment, please rerun this cell to show the HTML representation or trust the notebook. <br />On GitHub, the HTML representation is unable to render, please try loading this page with nbviewer.org.</b></div><div class=\"sk-container\" hidden><div class=\"sk-item sk-dashed-wrapped\"><div class=\"sk-label-container\"><div class=\"sk-label sk-toggleable\"><input class=\"sk-toggleable__control sk-hidden--visually\" id=\"sk-estimator-id-1\" type=\"checkbox\" ><label for=\"sk-estimator-id-1\" class=\"sk-toggleable__label sk-toggleable__label-arrow\">GridSearchCV</label><div class=\"sk-toggleable__content\"><pre>GridSearchCV(cv=3,\n",
       "             estimator=Pipeline(steps=[(&#x27;tfidfvectorizer&#x27;, TfidfVectorizer()),\n",
       "                                       (&#x27;linearsvc&#x27;, LinearSVC())]),\n",
       "             param_grid={&#x27;linearsvc__C&#x27;: [0.001, 0.01, 0.1, 1, 10, 100]})</pre></div></div></div><div class=\"sk-parallel\"><div class=\"sk-parallel-item\"><div class=\"sk-item\"><div class=\"sk-label-container\"><div class=\"sk-label sk-toggleable\"><input class=\"sk-toggleable__control sk-hidden--visually\" id=\"sk-estimator-id-2\" type=\"checkbox\" ><label for=\"sk-estimator-id-2\" class=\"sk-toggleable__label sk-toggleable__label-arrow\">estimator: Pipeline</label><div class=\"sk-toggleable__content\"><pre>Pipeline(steps=[(&#x27;tfidfvectorizer&#x27;, TfidfVectorizer()),\n",
       "                (&#x27;linearsvc&#x27;, LinearSVC())])</pre></div></div></div><div class=\"sk-serial\"><div class=\"sk-item\"><div class=\"sk-serial\"><div class=\"sk-item\"><div class=\"sk-estimator sk-toggleable\"><input class=\"sk-toggleable__control sk-hidden--visually\" id=\"sk-estimator-id-3\" type=\"checkbox\" ><label for=\"sk-estimator-id-3\" class=\"sk-toggleable__label sk-toggleable__label-arrow\">TfidfVectorizer</label><div class=\"sk-toggleable__content\"><pre>TfidfVectorizer()</pre></div></div></div><div class=\"sk-item\"><div class=\"sk-estimator sk-toggleable\"><input class=\"sk-toggleable__control sk-hidden--visually\" id=\"sk-estimator-id-4\" type=\"checkbox\" ><label for=\"sk-estimator-id-4\" class=\"sk-toggleable__label sk-toggleable__label-arrow\">LinearSVC</label><div class=\"sk-toggleable__content\"><pre>LinearSVC()</pre></div></div></div></div></div></div></div></div></div></div></div></div>"
      ],
      "text/plain": [
       "GridSearchCV(cv=3,\n",
       "             estimator=Pipeline(steps=[('tfidfvectorizer', TfidfVectorizer()),\n",
       "                                       ('linearsvc', LinearSVC())]),\n",
       "             param_grid={'linearsvc__C': [0.001, 0.01, 0.1, 1, 10, 100]})"
      ]
     },
     "execution_count": 14,
     "metadata": {},
     "output_type": "execute_result"
    }
   ],
   "source": [
    "grid.fit(X, y)"
   ]
  },
  {
   "cell_type": "code",
   "execution_count": 113,
   "id": "d67c5106",
   "metadata": {},
   "outputs": [
    {
     "name": "stdout",
     "output_type": "stream",
     "text": [
      "{'linearsvc__C': 0.01, 'tfidfvectorizer__max_features': 2000} 0.7117965267506504\n"
     ]
    }
   ],
   "source": [
    "# 첫 번째: 1000, 5000, 10000\n",
    "print(grid.best_params_, grid.best_score_)\n",
    "\n",
    "# 0.7084404294384659"
   ]
  },
  {
   "cell_type": "code",
   "execution_count": 114,
   "id": "a608a626",
   "metadata": {},
   "outputs": [
    {
     "name": "stdout",
     "output_type": "stream",
     "text": [
      "{'linearsvc__C': 0.01, 'tfidfvectorizer__max_features': 2000} 0.7117965267506504\n"
     ]
    }
   ],
   "source": [
    "# 두 번째: [2000, 4000, 6000]\n",
    "print(grid.best_params_, grid.best_score_)"
   ]
  },
  {
   "cell_type": "code",
   "execution_count": 118,
   "id": "6118101c",
   "metadata": {},
   "outputs": [
    {
     "name": "stdout",
     "output_type": "stream",
     "text": [
      "{'linearsvc__C': 0.01, 'tfidfvectorizer__max_features': 2000} 0.7117965267506504\n"
     ]
    }
   ],
   "source": [
    "# 세 번째: [1000, 2000, 3000]\n",
    "print(grid.best_params_, grid.best_score_)"
   ]
  },
  {
   "cell_type": "code",
   "execution_count": 122,
   "id": "db652ab9",
   "metadata": {},
   "outputs": [
    {
     "name": "stdout",
     "output_type": "stream",
     "text": [
      "{'linearsvc__C': 0.01, 'tfidfvectorizer__max_features': 10000} 0.7085118537560696\n"
     ]
    }
   ],
   "source": [
    "# 'tfidfvectorizer__max_features': [1000, 10000, 20000],\n",
    "print(grid.best_params_, grid.best_score_)"
   ]
  },
  {
   "cell_type": "code",
   "execution_count": 126,
   "id": "2ce9378f",
   "metadata": {},
   "outputs": [
    {
     "name": "stdout",
     "output_type": "stream",
     "text": [
      "{'linearsvc__C': 0.01, 'tfidfvectorizer__max_features': 10000} 0.7085118537560696\n"
     ]
    }
   ],
   "source": [
    "# tfidfvectorizer__max_features': [2000, 7000, 10000]\n",
    "print(grid.best_params_, grid.best_score_)"
   ]
  },
  {
   "cell_type": "code",
   "execution_count": 13,
   "id": "a0c7b9dc",
   "metadata": {},
   "outputs": [
    {
     "name": "stdout",
     "output_type": "stream",
     "text": [
      "{'linearsvc__C': 0.001} 0.7082262210796916\n"
     ]
    }
   ],
   "source": [
    "#     'linearsvc__C': [0.001, 0.01, 0.1, 1, 10, 100],\n",
    "print(grid.best_params_, grid.best_score_)"
   ]
  },
  {
   "cell_type": "code",
   "execution_count": 15,
   "id": "d7a31929",
   "metadata": {
    "scrolled": true
   },
   "outputs": [
    {
     "name": "stdout",
     "output_type": "stream",
     "text": [
      "{'linearsvc__C': 0.1} 0.6842330762639247\n"
     ]
    }
   ],
   "source": [
    "# 라벨링 약 12000개 한 이후 \n",
    "#     'linearsvc__C': [0.001, 0.01, 0.1, 1, 10, 100],\n",
    "print(grid.best_params_, grid.best_score_)"
   ]
  },
  {
   "cell_type": "markdown",
   "id": "b900c2f4",
   "metadata": {},
   "source": [
    "# logistic regression 사용\n"
   ]
  },
  {
   "cell_type": "code",
   "execution_count": 25,
   "id": "0c1c457f",
   "metadata": {},
   "outputs": [],
   "source": [
    "from sklearn.svm import LinearSVC\n",
    "from sklearn.feature_extraction.text import TfidfVectorizer\n",
    "from sklearn.pipeline import Pipeline\n",
    "from sklearn.model_selection import GridSearchCV\n",
    "X = main_text['본문']\n",
    "y = main_text['label']\n",
    "\n",
    "news_pipe_line = Pipeline([\n",
    "    ('tfidfvectorizer', TfidfVectorizer()),\n",
    "    ('LogisticRegression', LogisticRegression())\n",
    "])\n"
   ]
  },
  {
   "cell_type": "code",
   "execution_count": 26,
   "id": "fa1a6725",
   "metadata": {},
   "outputs": [],
   "source": [
    "param_grid = {\n",
    "    'LogisticRegression__C' : [0.0001, 0.001, 0.01, 1],\n",
    "}"
   ]
  },
  {
   "cell_type": "code",
   "execution_count": 27,
   "id": "b23f3a42",
   "metadata": {
    "scrolled": true
   },
   "outputs": [
    {
     "name": "stderr",
     "output_type": "stream",
     "text": [
      "C:\\Users\\aischool185\\anaconda3\\envs\\machine\\lib\\site-packages\\sklearn\\model_selection\\_split.py:725: UserWarning: The least populated class in y has only 3 members, which is less than n_splits=5.\n",
      "  warnings.warn(\n",
      "C:\\Users\\aischool185\\anaconda3\\envs\\machine\\lib\\site-packages\\sklearn\\linear_model\\_logistic.py:460: ConvergenceWarning: lbfgs failed to converge (status=1):\n",
      "STOP: TOTAL NO. of ITERATIONS REACHED LIMIT.\n",
      "\n",
      "Increase the number of iterations (max_iter) or scale the data as shown in:\n",
      "    https://scikit-learn.org/stable/modules/preprocessing.html\n",
      "Please also refer to the documentation for alternative solver options:\n",
      "    https://scikit-learn.org/stable/modules/linear_model.html#logistic-regression\n",
      "  n_iter_i = _check_optimize_result(\n"
     ]
    },
    {
     "data": {
      "text/html": [
       "<style>#sk-container-id-2 {color: black;}#sk-container-id-2 pre{padding: 0;}#sk-container-id-2 div.sk-toggleable {background-color: white;}#sk-container-id-2 label.sk-toggleable__label {cursor: pointer;display: block;width: 100%;margin-bottom: 0;padding: 0.3em;box-sizing: border-box;text-align: center;}#sk-container-id-2 label.sk-toggleable__label-arrow:before {content: \"▸\";float: left;margin-right: 0.25em;color: #696969;}#sk-container-id-2 label.sk-toggleable__label-arrow:hover:before {color: black;}#sk-container-id-2 div.sk-estimator:hover label.sk-toggleable__label-arrow:before {color: black;}#sk-container-id-2 div.sk-toggleable__content {max-height: 0;max-width: 0;overflow: hidden;text-align: left;background-color: #f0f8ff;}#sk-container-id-2 div.sk-toggleable__content pre {margin: 0.2em;color: black;border-radius: 0.25em;background-color: #f0f8ff;}#sk-container-id-2 input.sk-toggleable__control:checked~div.sk-toggleable__content {max-height: 200px;max-width: 100%;overflow: auto;}#sk-container-id-2 input.sk-toggleable__control:checked~label.sk-toggleable__label-arrow:before {content: \"▾\";}#sk-container-id-2 div.sk-estimator input.sk-toggleable__control:checked~label.sk-toggleable__label {background-color: #d4ebff;}#sk-container-id-2 div.sk-label input.sk-toggleable__control:checked~label.sk-toggleable__label {background-color: #d4ebff;}#sk-container-id-2 input.sk-hidden--visually {border: 0;clip: rect(1px 1px 1px 1px);clip: rect(1px, 1px, 1px, 1px);height: 1px;margin: -1px;overflow: hidden;padding: 0;position: absolute;width: 1px;}#sk-container-id-2 div.sk-estimator {font-family: monospace;background-color: #f0f8ff;border: 1px dotted black;border-radius: 0.25em;box-sizing: border-box;margin-bottom: 0.5em;}#sk-container-id-2 div.sk-estimator:hover {background-color: #d4ebff;}#sk-container-id-2 div.sk-parallel-item::after {content: \"\";width: 100%;border-bottom: 1px solid gray;flex-grow: 1;}#sk-container-id-2 div.sk-label:hover label.sk-toggleable__label {background-color: #d4ebff;}#sk-container-id-2 div.sk-serial::before {content: \"\";position: absolute;border-left: 1px solid gray;box-sizing: border-box;top: 0;bottom: 0;left: 50%;z-index: 0;}#sk-container-id-2 div.sk-serial {display: flex;flex-direction: column;align-items: center;background-color: white;padding-right: 0.2em;padding-left: 0.2em;position: relative;}#sk-container-id-2 div.sk-item {position: relative;z-index: 1;}#sk-container-id-2 div.sk-parallel {display: flex;align-items: stretch;justify-content: center;background-color: white;position: relative;}#sk-container-id-2 div.sk-item::before, #sk-container-id-2 div.sk-parallel-item::before {content: \"\";position: absolute;border-left: 1px solid gray;box-sizing: border-box;top: 0;bottom: 0;left: 50%;z-index: -1;}#sk-container-id-2 div.sk-parallel-item {display: flex;flex-direction: column;z-index: 1;position: relative;background-color: white;}#sk-container-id-2 div.sk-parallel-item:first-child::after {align-self: flex-end;width: 50%;}#sk-container-id-2 div.sk-parallel-item:last-child::after {align-self: flex-start;width: 50%;}#sk-container-id-2 div.sk-parallel-item:only-child::after {width: 0;}#sk-container-id-2 div.sk-dashed-wrapped {border: 1px dashed gray;margin: 0 0.4em 0.5em 0.4em;box-sizing: border-box;padding-bottom: 0.4em;background-color: white;}#sk-container-id-2 div.sk-label label {font-family: monospace;font-weight: bold;display: inline-block;line-height: 1.2em;}#sk-container-id-2 div.sk-label-container {text-align: center;}#sk-container-id-2 div.sk-container {/* jupyter's `normalize.less` sets `[hidden] { display: none; }` but bootstrap.min.css set `[hidden] { display: none !important; }` so we also need the `!important` here to be able to override the default hidden behavior on the sphinx rendered scikit-learn.org. See: https://github.com/scikit-learn/scikit-learn/issues/21755 */display: inline-block !important;position: relative;}#sk-container-id-2 div.sk-text-repr-fallback {display: none;}</style><div id=\"sk-container-id-2\" class=\"sk-top-container\"><div class=\"sk-text-repr-fallback\"><pre>GridSearchCV(cv=5,\n",
       "             estimator=Pipeline(steps=[(&#x27;tfidfvectorizer&#x27;, TfidfVectorizer()),\n",
       "                                       (&#x27;LogisticRegression&#x27;,\n",
       "                                        LogisticRegression())]),\n",
       "             param_grid={&#x27;LogisticRegression__C&#x27;: [0.0001, 0.001, 0.01, 1]},\n",
       "             scoring=&#x27;accuracy&#x27;)</pre><b>In a Jupyter environment, please rerun this cell to show the HTML representation or trust the notebook. <br />On GitHub, the HTML representation is unable to render, please try loading this page with nbviewer.org.</b></div><div class=\"sk-container\" hidden><div class=\"sk-item sk-dashed-wrapped\"><div class=\"sk-label-container\"><div class=\"sk-label sk-toggleable\"><input class=\"sk-toggleable__control sk-hidden--visually\" id=\"sk-estimator-id-5\" type=\"checkbox\" ><label for=\"sk-estimator-id-5\" class=\"sk-toggleable__label sk-toggleable__label-arrow\">GridSearchCV</label><div class=\"sk-toggleable__content\"><pre>GridSearchCV(cv=5,\n",
       "             estimator=Pipeline(steps=[(&#x27;tfidfvectorizer&#x27;, TfidfVectorizer()),\n",
       "                                       (&#x27;LogisticRegression&#x27;,\n",
       "                                        LogisticRegression())]),\n",
       "             param_grid={&#x27;LogisticRegression__C&#x27;: [0.0001, 0.001, 0.01, 1]},\n",
       "             scoring=&#x27;accuracy&#x27;)</pre></div></div></div><div class=\"sk-parallel\"><div class=\"sk-parallel-item\"><div class=\"sk-item\"><div class=\"sk-label-container\"><div class=\"sk-label sk-toggleable\"><input class=\"sk-toggleable__control sk-hidden--visually\" id=\"sk-estimator-id-6\" type=\"checkbox\" ><label for=\"sk-estimator-id-6\" class=\"sk-toggleable__label sk-toggleable__label-arrow\">estimator: Pipeline</label><div class=\"sk-toggleable__content\"><pre>Pipeline(steps=[(&#x27;tfidfvectorizer&#x27;, TfidfVectorizer()),\n",
       "                (&#x27;LogisticRegression&#x27;, LogisticRegression())])</pre></div></div></div><div class=\"sk-serial\"><div class=\"sk-item\"><div class=\"sk-serial\"><div class=\"sk-item\"><div class=\"sk-estimator sk-toggleable\"><input class=\"sk-toggleable__control sk-hidden--visually\" id=\"sk-estimator-id-7\" type=\"checkbox\" ><label for=\"sk-estimator-id-7\" class=\"sk-toggleable__label sk-toggleable__label-arrow\">TfidfVectorizer</label><div class=\"sk-toggleable__content\"><pre>TfidfVectorizer()</pre></div></div></div><div class=\"sk-item\"><div class=\"sk-estimator sk-toggleable\"><input class=\"sk-toggleable__control sk-hidden--visually\" id=\"sk-estimator-id-8\" type=\"checkbox\" ><label for=\"sk-estimator-id-8\" class=\"sk-toggleable__label sk-toggleable__label-arrow\">LogisticRegression</label><div class=\"sk-toggleable__content\"><pre>LogisticRegression()</pre></div></div></div></div></div></div></div></div></div></div></div></div>"
      ],
      "text/plain": [
       "GridSearchCV(cv=5,\n",
       "             estimator=Pipeline(steps=[('tfidfvectorizer', TfidfVectorizer()),\n",
       "                                       ('LogisticRegression',\n",
       "                                        LogisticRegression())]),\n",
       "             param_grid={'LogisticRegression__C': [0.0001, 0.001, 0.01, 1]},\n",
       "             scoring='accuracy')"
      ]
     },
     "execution_count": 27,
     "metadata": {},
     "output_type": "execute_result"
    }
   ],
   "source": [
    "grid = GridSearchCV(news_pipe_line, param_grid, cv=5, scoring=\"accuracy\")\n",
    "grid.fit(X, y)"
   ]
  },
  {
   "cell_type": "code",
   "execution_count": 16,
   "id": "1a085574",
   "metadata": {},
   "outputs": [
    {
     "name": "stdout",
     "output_type": "stream",
     "text": [
      "{'linearsvc__C': 0.001} 0.7082262210796916\n"
     ]
    }
   ],
   "source": [
    "#     'tfidfvectorizer__max_df' : [10000, 13000, 15000],\n",
    "#    'tfidfvectorizer__min_df' : [3, 5, 7],\n",
    "#    'tfidfvectorizer__ngram_range' : [(1, 1), (1, 2), (1, 3), (1, 4)],\n",
    "#    'LogisticRegression__C' : [0.0001, 0.001, 0.01, 1],\n",
    "print(grid.best_params_, grid.best_score_)\n"
   ]
  },
  {
   "cell_type": "markdown",
   "id": "c88e2e89",
   "metadata": {},
   "source": [
    "3500 + labeling 6500개 --> 총 10000개 일단 나눠서 X_train, X_test, y_train, _y_test \n",
    "학습하고나서 --> grid_search하고(원래는 모델 여러가지 써보는게 좋다) --> pickle로 저장하고 --> 나중에 실사용 학습데이터 저장만 해놓고 \n",
    "무슨 단어사전? X_train vectorizer한거를 pickle로 저장해놔야 한다. \n",
    "학습된 모델 --> 불러와서 나중에 내가 쓸 1시간 내 올라온 뉴스에 넣어서 긍정 부정이 나오게 한다. \n",
    "linearregression 이 끝난다. \n",
    "> 점수 낸거 \n",
    "정확도 뭐 그런것들.   \n",
    "4가지 점수가 다있어야 되네.  \n",
    "정확도는 무조건 높아야 하고, 정밀도나 재현율을 보여주거나 아니면 그거 둘다 한 f1-score  \n",
    "이진 분류 감성 분석에서 어떤 점수를 가장 많이 쓰는지 보고 그것만 도출  \n",
    "이 점수   \n",
    "긍정에 대한 뉴스가 많으면  \n",
    "학습할 때 긍정을 빡세게 넣어야 함 --> label 1이거 가져와서   \n",
    "4000 4000 어디다가 모델로 돌려야 한다? 따로 돌려야 한다.   \n",
    "총 8000개를 가져와서 fit  \n",
    "그거에 대해서 파라미터 설정하고  \n",
    "점수 높여서 점수 도출  \n",
    "모델 저장.   \n"
   ]
  },
  {
   "cell_type": "code",
   "execution_count": 22,
   "id": "f2d1cf11",
   "metadata": {},
   "outputs": [
    {
     "name": "stdout",
     "output_type": "stream",
     "text": [
      "{'LogisticRegression__C': 1, 'tfidfvectorizer__min_df': 3, 'tfidfvectorizer__ngram_range': (1, 3)} 0.6993001999428735\n"
     ]
    }
   ],
   "source": [
    "# 라벨링 12000개 완료 후 gridsearch - keyword\n",
    "# param_grid = {\n",
    "#     'tfidfvectorizer__min_df' : [3, 5, 7],\n",
    "#     'tfidfvectorizer__ngram_range' : [(1, 1), (1, 2), (1, 3), (1, 4)],\n",
    "#     'LogisticRegression__C' : [0.0001, 0.001, 0.01, 1],\n",
    "# }\n",
    "print(grid.best_params_, grid.best_score_)"
   ]
  },
  {
   "cell_type": "code",
   "execution_count": 28,
   "id": "eebab208",
   "metadata": {},
   "outputs": [
    {
     "name": "stdout",
     "output_type": "stream",
     "text": [
      "{'LogisticRegression__C': 1} 0.6948035905543939\n"
     ]
    }
   ],
   "source": [
    "# 라벨링 12000개 완료 후 gridsearch - 본문 \n",
    "print(grid.best_params_, grid.best_score_)\n",
    "param_grid = {\n",
    "    'LogisticRegression__C' : [0.0001, 0.001, 0.01, 1],\n",
    "}"
   ]
  },
  {
   "cell_type": "code",
   "execution_count": 29,
   "id": "0cce28cf",
   "metadata": {},
   "outputs": [
    {
     "data": {
      "text/html": [
       "<style>#sk-container-id-3 {color: black;}#sk-container-id-3 pre{padding: 0;}#sk-container-id-3 div.sk-toggleable {background-color: white;}#sk-container-id-3 label.sk-toggleable__label {cursor: pointer;display: block;width: 100%;margin-bottom: 0;padding: 0.3em;box-sizing: border-box;text-align: center;}#sk-container-id-3 label.sk-toggleable__label-arrow:before {content: \"▸\";float: left;margin-right: 0.25em;color: #696969;}#sk-container-id-3 label.sk-toggleable__label-arrow:hover:before {color: black;}#sk-container-id-3 div.sk-estimator:hover label.sk-toggleable__label-arrow:before {color: black;}#sk-container-id-3 div.sk-toggleable__content {max-height: 0;max-width: 0;overflow: hidden;text-align: left;background-color: #f0f8ff;}#sk-container-id-3 div.sk-toggleable__content pre {margin: 0.2em;color: black;border-radius: 0.25em;background-color: #f0f8ff;}#sk-container-id-3 input.sk-toggleable__control:checked~div.sk-toggleable__content {max-height: 200px;max-width: 100%;overflow: auto;}#sk-container-id-3 input.sk-toggleable__control:checked~label.sk-toggleable__label-arrow:before {content: \"▾\";}#sk-container-id-3 div.sk-estimator input.sk-toggleable__control:checked~label.sk-toggleable__label {background-color: #d4ebff;}#sk-container-id-3 div.sk-label input.sk-toggleable__control:checked~label.sk-toggleable__label {background-color: #d4ebff;}#sk-container-id-3 input.sk-hidden--visually {border: 0;clip: rect(1px 1px 1px 1px);clip: rect(1px, 1px, 1px, 1px);height: 1px;margin: -1px;overflow: hidden;padding: 0;position: absolute;width: 1px;}#sk-container-id-3 div.sk-estimator {font-family: monospace;background-color: #f0f8ff;border: 1px dotted black;border-radius: 0.25em;box-sizing: border-box;margin-bottom: 0.5em;}#sk-container-id-3 div.sk-estimator:hover {background-color: #d4ebff;}#sk-container-id-3 div.sk-parallel-item::after {content: \"\";width: 100%;border-bottom: 1px solid gray;flex-grow: 1;}#sk-container-id-3 div.sk-label:hover label.sk-toggleable__label {background-color: #d4ebff;}#sk-container-id-3 div.sk-serial::before {content: \"\";position: absolute;border-left: 1px solid gray;box-sizing: border-box;top: 0;bottom: 0;left: 50%;z-index: 0;}#sk-container-id-3 div.sk-serial {display: flex;flex-direction: column;align-items: center;background-color: white;padding-right: 0.2em;padding-left: 0.2em;position: relative;}#sk-container-id-3 div.sk-item {position: relative;z-index: 1;}#sk-container-id-3 div.sk-parallel {display: flex;align-items: stretch;justify-content: center;background-color: white;position: relative;}#sk-container-id-3 div.sk-item::before, #sk-container-id-3 div.sk-parallel-item::before {content: \"\";position: absolute;border-left: 1px solid gray;box-sizing: border-box;top: 0;bottom: 0;left: 50%;z-index: -1;}#sk-container-id-3 div.sk-parallel-item {display: flex;flex-direction: column;z-index: 1;position: relative;background-color: white;}#sk-container-id-3 div.sk-parallel-item:first-child::after {align-self: flex-end;width: 50%;}#sk-container-id-3 div.sk-parallel-item:last-child::after {align-self: flex-start;width: 50%;}#sk-container-id-3 div.sk-parallel-item:only-child::after {width: 0;}#sk-container-id-3 div.sk-dashed-wrapped {border: 1px dashed gray;margin: 0 0.4em 0.5em 0.4em;box-sizing: border-box;padding-bottom: 0.4em;background-color: white;}#sk-container-id-3 div.sk-label label {font-family: monospace;font-weight: bold;display: inline-block;line-height: 1.2em;}#sk-container-id-3 div.sk-label-container {text-align: center;}#sk-container-id-3 div.sk-container {/* jupyter's `normalize.less` sets `[hidden] { display: none; }` but bootstrap.min.css set `[hidden] { display: none !important; }` so we also need the `!important` here to be able to override the default hidden behavior on the sphinx rendered scikit-learn.org. See: https://github.com/scikit-learn/scikit-learn/issues/21755 */display: inline-block !important;position: relative;}#sk-container-id-3 div.sk-text-repr-fallback {display: none;}</style><div id=\"sk-container-id-3\" class=\"sk-top-container\"><div class=\"sk-text-repr-fallback\"><pre>Pipeline(steps=[(&#x27;tfidfvectorizer&#x27;, TfidfVectorizer()),\n",
       "                (&#x27;LogisticRegression&#x27;, LogisticRegression(C=1))])</pre><b>In a Jupyter environment, please rerun this cell to show the HTML representation or trust the notebook. <br />On GitHub, the HTML representation is unable to render, please try loading this page with nbviewer.org.</b></div><div class=\"sk-container\" hidden><div class=\"sk-item sk-dashed-wrapped\"><div class=\"sk-label-container\"><div class=\"sk-label sk-toggleable\"><input class=\"sk-toggleable__control sk-hidden--visually\" id=\"sk-estimator-id-9\" type=\"checkbox\" ><label for=\"sk-estimator-id-9\" class=\"sk-toggleable__label sk-toggleable__label-arrow\">Pipeline</label><div class=\"sk-toggleable__content\"><pre>Pipeline(steps=[(&#x27;tfidfvectorizer&#x27;, TfidfVectorizer()),\n",
       "                (&#x27;LogisticRegression&#x27;, LogisticRegression(C=1))])</pre></div></div></div><div class=\"sk-serial\"><div class=\"sk-item\"><div class=\"sk-estimator sk-toggleable\"><input class=\"sk-toggleable__control sk-hidden--visually\" id=\"sk-estimator-id-10\" type=\"checkbox\" ><label for=\"sk-estimator-id-10\" class=\"sk-toggleable__label sk-toggleable__label-arrow\">TfidfVectorizer</label><div class=\"sk-toggleable__content\"><pre>TfidfVectorizer()</pre></div></div></div><div class=\"sk-item\"><div class=\"sk-estimator sk-toggleable\"><input class=\"sk-toggleable__control sk-hidden--visually\" id=\"sk-estimator-id-11\" type=\"checkbox\" ><label for=\"sk-estimator-id-11\" class=\"sk-toggleable__label sk-toggleable__label-arrow\">LogisticRegression</label><div class=\"sk-toggleable__content\"><pre>LogisticRegression(C=1)</pre></div></div></div></div></div></div></div>"
      ],
      "text/plain": [
       "Pipeline(steps=[('tfidfvectorizer', TfidfVectorizer()),\n",
       "                ('LogisticRegression', LogisticRegression(C=1))])"
      ]
     },
     "execution_count": 29,
     "metadata": {},
     "output_type": "execute_result"
    }
   ],
   "source": [
    "grid.best_estimator_"
   ]
  }
 ],
 "metadata": {
  "kernelspec": {
   "display_name": "Python 3 (ipykernel)",
   "language": "python",
   "name": "python3"
  },
  "language_info": {
   "codemirror_mode": {
    "name": "ipython",
    "version": 3
   },
   "file_extension": ".py",
   "mimetype": "text/x-python",
   "name": "python",
   "nbconvert_exporter": "python",
   "pygments_lexer": "ipython3",
   "version": "3.8.0"
  }
 },
 "nbformat": 4,
 "nbformat_minor": 5
}
