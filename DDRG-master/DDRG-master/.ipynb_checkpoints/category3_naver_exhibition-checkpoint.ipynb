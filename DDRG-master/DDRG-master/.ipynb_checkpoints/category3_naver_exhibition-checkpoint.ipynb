{
 "cells": [
  {
   "cell_type": "code",
   "execution_count": 1,
   "id": "a6d5a231",
   "metadata": {},
   "outputs": [],
   "source": [
    "from selenium import webdriver as wb\n",
    "from selenium.webdriver.common.keys import Keys\n",
    "from selenium.webdriver.common.by import By\n",
    "import requests as req\n",
    "from bs4 import BeautifulSoup as bs \n",
    "import time\n",
    "import pandas as pd\n",
    "import numpy as np"
   ]
  },
  {
   "cell_type": "markdown",
   "id": "53f8af68",
   "metadata": {},
   "source": [
    "# 종로구"
   ]
  },
  {
   "cell_type": "code",
   "execution_count": 2,
   "id": "13f88f4e",
   "metadata": {},
   "outputs": [],
   "source": [
    "url = \"https://www.naver.com\"\n",
    "driver = wb.Chrome()\n",
    "driver.get(url)\n",
    "search = driver.find_element(By.ID, \"query\")\n",
    "search.send_keys(\"전시회\")\n",
    "search.send_keys(Keys.ENTER)\n",
    "jongro_gu = wb.find_element(By.CSS_SELECTOR, \"div.sc_new.cs_common_module.case_list.color_5._kgs_art_exhibition > div.cm_content_wrap > div > div > div.cm_filter_tap > div > div > div > ul > li.tab.open > div > ul > li:nth-child(2)\")\n"
   ]
  },
  {
   "cell_type": "code",
   "execution_count": null,
   "id": "430ec6b1",
   "metadata": {},
   "outputs": [],
   "source": [
    "#mflick > div > div > div > div > div:nth-child(1) > div.data_area > div > div.title > div > strong > a\n",
    "\n",
    "#main_pack > div.sc_new.cs_common_module.case_list.color_5._kgs_art_exhibition"
   ]
  },
  {
   "cell_type": "markdown",
   "id": "be9c0cd5",
   "metadata": {},
   "source": [
    "# 강남구"
   ]
  },
  {
   "cell_type": "code",
   "execution_count": null,
   "id": "6d8e9f41",
   "metadata": {},
   "outputs": [],
   "source": [
    "url = \"https://www.naver.com\"\n",
    "driver = wb.Chrome()\n",
    "driver.get(url)\n",
    "search = driver.find_element(By.ID, \"query\")\n",
    "search.send_keys(\"전시회\")\n",
    "search.send_keys(Keys.ENTER)\n",
    "jongro_gu = wb.find_element(By.CSS_SELECTOR, \"div.sc_new.cs_common_module.case_list.color_5._kgs_art_exhibition > div.cm_content_wrap > div > div > div.cm_filter_tap > div > div > div > ul > li.tab.open > div > ul > li:nth-child(3)\")\n"
   ]
  },
  {
   "cell_type": "code",
   "execution_count": null,
   "id": "97e2d26f",
   "metadata": {},
   "outputs": [],
   "source": [
    "# 개최예정만 검색         \n",
    "classify_period = driver.find_element(By.CSS_SELECTOR, \"#searchDate > option:nth-child(3)\")\n",
    "classify_period.click()\n",
    "search_btn = driver.find_element(By.CSS_SELECTOR, \"#btnSearch\")\n",
    "search_btn.send_keys(Keys.ENTER)\n",
    "time.sleep(1)\n",
    "# 120개로 약 3개월 이후까지 \n",
    "for i in range(10):\n",
    "    body = driver.find_element(By.CSS_SELECTOR, \"body\")\n",
    "    body.send_keys(Keys.END)\n",
    "    time.sleep(1)\n",
    "for j in range(1, 34):\n",
    "    try:\n",
    "        time.sleep(1)\n",
    "        li_content = driver.find_element(By.CSS_SELECTOR, f\"#fstvlList > li:nth-child({j}) > a\")\n",
    "        li_content.click()\n",
    "        content_extract_festival()\n",
    "        \n",
    "    except:\n",
    "        break"
   ]
  },
  {
   "cell_type": "code",
   "execution_count": null,
   "id": "8809dc8b",
   "metadata": {},
   "outputs": [],
   "source": []
  },
  {
   "cell_type": "code",
   "execution_count": null,
   "id": "37a1e305",
   "metadata": {},
   "outputs": [],
   "source": []
  },
  {
   "cell_type": "code",
   "execution_count": null,
   "id": "eda75d02",
   "metadata": {},
   "outputs": [],
   "source": []
  },
  {
   "cell_type": "code",
   "execution_count": null,
   "id": "1cb822d1",
   "metadata": {},
   "outputs": [],
   "source": []
  },
  {
   "cell_type": "code",
   "execution_count": null,
   "id": "f3e38fe8",
   "metadata": {},
   "outputs": [],
   "source": []
  }
 ],
 "metadata": {
  "kernelspec": {
   "display_name": "Python 3 (ipykernel)",
   "language": "python",
   "name": "python3"
  },
  "language_info": {
   "codemirror_mode": {
    "name": "ipython",
    "version": 3
   },
   "file_extension": ".py",
   "mimetype": "text/x-python",
   "name": "python",
   "nbconvert_exporter": "python",
   "pygments_lexer": "ipython3",
   "version": "3.10.9"
  }
 },
 "nbformat": 4,
 "nbformat_minor": 5
}
